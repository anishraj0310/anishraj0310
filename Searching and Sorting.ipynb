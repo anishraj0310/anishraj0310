{
 "cells": [
  {
   "cell_type": "markdown",
   "id": "990311f8",
   "metadata": {},
   "source": [
    "### Binary Search"
   ]
  },
  {
   "cell_type": "code",
   "execution_count": 15,
   "id": "be755193",
   "metadata": {},
   "outputs": [
    {
     "name": "stdout",
     "output_type": "stream",
     "text": [
      "23\n",
      "12 16 18 23 29 35\n",
      "3\n"
     ]
    }
   ],
   "source": [
    "def search(arr,x):\n",
    "    n = len(arr) - 1\n",
    "    s = 0\n",
    "    e = n - 1\n",
    "    while s <= e:\n",
    "        mid = (s + e) >> 1\n",
    "        if arr[mid] == x :\n",
    "            return mid\n",
    "        elif arr[mid] > x:\n",
    "            e = mid - 1\n",
    "        else:\n",
    "            s = mid + 1\n",
    "    return -1 \n",
    "\n",
    "def takeInput() :\n",
    "    x = int(input()) \n",
    "    if x == 0 :\n",
    "        return list(), 0\n",
    "    arr = list(map(int, input().strip().split())) \n",
    "    return arr, x\n",
    "\n",
    "\n",
    "arr1, x = takeInput()\n",
    "result = search(arr1, x)\n",
    "if result != -1:\n",
    "    print(result)\n",
    "else:\n",
    "    print(\"Not Found in Array\")"
   ]
  }
 ],
 "metadata": {
  "kernelspec": {
   "display_name": "Python 3 (ipykernel)",
   "language": "python",
   "name": "python3"
  },
  "language_info": {
   "codemirror_mode": {
    "name": "ipython",
    "version": 3
   },
   "file_extension": ".py",
   "mimetype": "text/x-python",
   "name": "python",
   "nbconvert_exporter": "python",
   "pygments_lexer": "ipython3",
   "version": "3.11.4"
  }
 },
 "nbformat": 4,
 "nbformat_minor": 5
}
