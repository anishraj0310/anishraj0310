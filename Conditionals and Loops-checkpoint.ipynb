{
 "cells": [
  {
   "cell_type": "code",
   "execution_count": 4,
   "id": "eab61e6e",
   "metadata": {},
   "outputs": [
    {
     "data": {
      "text/plain": [
       "bool"
      ]
     },
     "execution_count": 4,
     "metadata": {},
     "output_type": "execute_result"
    }
   ],
   "source": [
    "a = True\n",
    "b = False\n",
    "\n",
    "c = False\n",
    "type(c)"
   ]
  },
  {
   "cell_type": "markdown",
   "id": "9f636ec0",
   "metadata": {},
   "source": [
    "### Relational Operators"
   ]
  },
  {
   "cell_type": "code",
   "execution_count": 5,
   "id": "072c6b11",
   "metadata": {},
   "outputs": [
    {
     "name": "stdout",
     "output_type": "stream",
     "text": [
      "False\n",
      "True\n",
      "False\n",
      "True\n",
      "False\n",
      "True\n"
     ]
    }
   ],
   "source": [
    "a = 10\n",
    "b = 20\n",
    "print(a>b)\n",
    "print(a<b)\n",
    "print(a>=b)\n",
    "print(a<=b)\n",
    "print(a==b)\n",
    "print(a!=b)"
   ]
  },
  {
   "cell_type": "markdown",
   "id": "3e58fdc5",
   "metadata": {},
   "source": [
    "### Logical Operators"
   ]
  },
  {
   "cell_type": "code",
   "execution_count": 6,
   "id": "313935dd",
   "metadata": {},
   "outputs": [
    {
     "name": "stdout",
     "output_type": "stream",
     "text": [
      "False\n",
      "True\n",
      "False\n"
     ]
    }
   ],
   "source": [
    "c1 = a>10\n",
    "c2 = b>10\n",
    "r1 = c1 and c2\n",
    "r2 = c1 or c2\n",
    "r3 = not(c2)\n",
    "print(r1)\n",
    "print(r2)\n",
    "print(r3)\n"
   ]
  },
  {
   "cell_type": "markdown",
   "id": "bb8ac465",
   "metadata": {},
   "source": [
    "### If-Else"
   ]
  },
  {
   "cell_type": "code",
   "execution_count": 8,
   "id": "af22a8fe",
   "metadata": {},
   "outputs": [
    {
     "name": "stdout",
     "output_type": "stream",
     "text": [
      "I am inside else\n"
     ]
    }
   ],
   "source": [
    "a = False\n",
    "if a:\n",
    "    print(\"I am inside If\")\n",
    "else:\n",
    "    print(\"I am inside else\")"
   ]
  },
  {
   "cell_type": "code",
   "execution_count": 10,
   "id": "41e3e333",
   "metadata": {},
   "outputs": [
    {
     "name": "stdout",
     "output_type": "stream",
     "text": [
      "721\n",
      "n is odd\n"
     ]
    }
   ],
   "source": [
    "# check number if its Odd or not\n",
    "n = int(input())\n",
    "r = n % 2\n",
    "is_even = (r == 0)\n",
    "\n",
    "if is_even:\n",
    "    print(\"n is Even\")\n",
    "else:\n",
    "    print(\"n is odd\")"
   ]
  },
  {
   "cell_type": "code",
   "execution_count": 11,
   "id": "26024965",
   "metadata": {
    "scrolled": true
   },
   "outputs": [
    {
     "name": "stdout",
     "output_type": "stream",
     "text": [
      "54\n",
      "n is Even\n"
     ]
    }
   ],
   "source": [
    "# check number if its Odd or not\n",
    "n = int(input())\n",
    "is_even = (n % 2 == 0)\n",
    "\n",
    "if is_even:\n",
    "    print(\"n is Even\")\n",
    "else:\n",
    "    print(\"n is odd\")"
   ]
  },
  {
   "cell_type": "code",
   "execution_count": 14,
   "id": "0e6495e0",
   "metadata": {},
   "outputs": [
    {
     "name": "stdout",
     "output_type": "stream",
     "text": [
      "54\n",
      "n is Even\n"
     ]
    }
   ],
   "source": [
    "# check number if its Odd or not\n",
    "n = int(input())\n",
    "\n",
    "if n % 2 == 0:\n",
    "    print(\"n is Even\")\n",
    "else:\n",
    "    print(\"n is odd\")"
   ]
  },
  {
   "cell_type": "markdown",
   "id": "d916a968",
   "metadata": {},
   "source": [
    "### Usnig operator in IF-ELSE"
   ]
  },
  {
   "cell_type": "code",
   "execution_count": 17,
   "id": "c5fbd436",
   "metadata": {
    "scrolled": true
   },
   "outputs": [
    {
     "name": "stdout",
     "output_type": "stream",
     "text": [
      "2\n",
      "1\n",
      "No they are not\n"
     ]
    }
   ],
   "source": [
    "a = int(input())\n",
    "b = int(input())\n",
    "\n",
    "c1 = a > 10\n",
    "c2 = b > 10\n",
    "\n",
    "r = c1 and c2\n",
    "if r:\n",
    "    print(\"Both > 10\")\n",
    "else:\n",
    "    print(\"No they are not\")"
   ]
  },
  {
   "cell_type": "code",
   "execution_count": 19,
   "id": "7d7e1ede",
   "metadata": {},
   "outputs": [
    {
     "name": "stdout",
     "output_type": "stream",
     "text": [
      "14\n",
      "45\n",
      "Both > 10\n"
     ]
    }
   ],
   "source": [
    "a = int(input())\n",
    "b = int(input())\n",
    "\n",
    "if a > 10 and  b > 10:\n",
    "    print(\"Both > 10\")\n",
    "else:\n",
    "    print(\"No they are not\")"
   ]
  },
  {
   "cell_type": "markdown",
   "id": "213244b5",
   "metadata": {},
   "source": [
    "### ELIF"
   ]
  },
  {
   "cell_type": "code",
   "execution_count": 20,
   "id": "8b9bb9d7",
   "metadata": {},
   "outputs": [
    {
     "name": "stdout",
     "output_type": "stream",
     "text": [
      "10\n",
      "12\n",
      "15\n",
      "15\n"
     ]
    }
   ],
   "source": [
    "a = int(input())\n",
    "b = int(input())\n",
    "c = int(input())\n",
    "\n",
    "if a >= b and a >= c:\n",
    "    print(a)\n",
    "elif b >= a and b >= c:\n",
    "    print(b)\n",
    "else:\n",
    "    print(c)"
   ]
  },
  {
   "cell_type": "code",
   "execution_count": 21,
   "id": "e998ada0",
   "metadata": {
    "scrolled": true
   },
   "outputs": [
    {
     "name": "stdout",
     "output_type": "stream",
     "text": [
      "330\n",
      "Red\n"
     ]
    }
   ],
   "source": [
    "n = int(input())\n",
    "\n",
    "if n > 10:\n",
    "    print(\"Red\")\n",
    "elif n >= 5:\n",
    "    print(\"green\")\n",
    "elif n> 0:\n",
    "    print(\"Yellow\") #It is right code"
   ]
  },
  {
   "cell_type": "code",
   "execution_count": 22,
   "id": "c7addd04",
   "metadata": {
    "scrolled": true
   },
   "outputs": [
    {
     "name": "stdout",
     "output_type": "stream",
     "text": [
      "30\n",
      "Green\n"
     ]
    }
   ],
   "source": [
    "n = int(input())\n",
    "\n",
    "if n >= 5:\n",
    "    print(\"Green\")\n",
    "elif n > 10:\n",
    "    print(\"Red\")\n",
    "elif n> 0:\n",
    "    print(\"Yellow\") # As it is wrong code beacause order of IF-ELSE matter a lot."
   ]
  },
  {
   "cell_type": "code",
   "execution_count": 25,
   "id": "f27debd1",
   "metadata": {},
   "outputs": [
    {
     "name": "stdout",
     "output_type": "stream",
     "text": [
      "-9\n",
      "Negative\n"
     ]
    }
   ],
   "source": [
    "# Given an integer n, find if n is positive, negative or 0.\n",
    "#If n is positive, print \"Positive\"\n",
    "#If n is negative, print \"Negative\"\n",
    "#And if n is equal to 0, print \"Zero\".\n",
    "\n",
    "n = int(input())\n",
    "\n",
    "if n > 0:\n",
    "    print(\"Positive\")\n",
    "elif n < 0:\n",
    "    print(\"Negative\")\n",
    "else:\n",
    "    print(\"Zero\") "
   ]
  },
  {
   "cell_type": "code",
   "execution_count": 28,
   "id": "7bf9e039",
   "metadata": {},
   "outputs": [
    {
     "name": "stdout",
     "output_type": "stream",
     "text": [
      "17\n",
      "14\n",
      "3\n"
     ]
    }
   ],
   "source": [
    "n = int(input())\n",
    "m = int(input())\n",
    "\n",
    "if n % 2 == 0:\n",
    "    if m % 2 == 0:\n",
    "        print(\"1\")\n",
    "    else:\n",
    "        print(\"2\")\n",
    "else:\n",
    "    print(\"3\")"
   ]
  },
  {
   "cell_type": "code",
   "execution_count": 29,
   "id": "decfb578",
   "metadata": {},
   "outputs": [
    {
     "name": "stdout",
     "output_type": "stream",
     "text": [
      "B\n"
     ]
    }
   ],
   "source": [
    "if True or True:\n",
    "    if False and True or False:\n",
    "        print('A')\n",
    "    elif False and False or True and True:\n",
    "       print('B')\n",
    "    else:\n",
    "      print('C')\n",
    "else:\n",
    "     print('D')"
   ]
  },
  {
   "cell_type": "markdown",
   "id": "03513493",
   "metadata": {},
   "source": [
    "### While Loop"
   ]
  },
  {
   "cell_type": "code",
   "execution_count": 31,
   "id": "d9d5d9bf",
   "metadata": {},
   "outputs": [
    {
     "name": "stdout",
     "output_type": "stream",
     "text": [
      "5\n",
      "1\n",
      "1\n",
      "1\n",
      "1\n",
      "1\n"
     ]
    }
   ],
   "source": [
    "# print 1 upto n times\n",
    "n = int(input())\n",
    "count = 1\n",
    "while count <= n:\n",
    "    print(1)\n",
    "    count = count + 1"
   ]
  },
  {
   "cell_type": "code",
   "execution_count": 32,
   "id": "967901b7",
   "metadata": {
    "scrolled": true
   },
   "outputs": [
    {
     "name": "stdout",
     "output_type": "stream",
     "text": [
      "6\n",
      "1\n",
      "2\n",
      "3\n",
      "4\n",
      "5\n",
      "6\n"
     ]
    }
   ],
   "source": [
    "# Print the number upto n \n",
    "n = int(input())\n",
    "\n",
    "count = 1\n",
    "while count <= n:\n",
    "    print(count)\n",
    "    count = count + 1"
   ]
  },
  {
   "cell_type": "code",
   "execution_count": 34,
   "id": "ef261302",
   "metadata": {},
   "outputs": [
    {
     "name": "stdout",
     "output_type": "stream",
     "text": [
      "10\n",
      "55\n"
     ]
    }
   ],
   "source": [
    "# Given an integer n, find and print the sum of numbers from 1 to n.\n",
    "n = int(input())\n",
    "count =1\n",
    "sum = 0\n",
    "while count <= n :\n",
    "    sum = sum + count\n",
    "    count = count + 1\n",
    "print(sum)"
   ]
  },
  {
   "cell_type": "code",
   "execution_count": 36,
   "id": "936ec939",
   "metadata": {},
   "outputs": [
    {
     "name": "stdout",
     "output_type": "stream",
     "text": [
      "14\n",
      "Not Prime\n"
     ]
    }
   ],
   "source": [
    "# Check prime\n",
    "n = int(input())\n",
    "d = 2\n",
    "flag = False\n",
    "while d < n:\n",
    "    if n % d == 0:\n",
    "        flag = True\n",
    "    d = d + 1\n",
    "if flag:\n",
    "    print(\"Not Prime\")\n",
    "else:\n",
    "    print(\"Prime\")"
   ]
  },
  {
   "cell_type": "code",
   "execution_count": 41,
   "id": "472a0df9",
   "metadata": {},
   "outputs": [
    {
     "name": "stdout",
     "output_type": "stream",
     "text": [
      "9\n",
      "2\n",
      "3\n",
      "5\n",
      "7\n"
     ]
    }
   ],
   "source": [
    "# Print prime upto N numbers\n",
    "n = int(input())\n",
    "k = 2\n",
    "while k <= n:\n",
    "    d = 2\n",
    "    flag = False\n",
    "    while d < k:\n",
    "        if k % d == 0:\n",
    "            flag = True\n",
    "        d = d + 1\n",
    "    if not flag:\n",
    "        print(k)\n",
    "    k = k + 1"
   ]
  },
  {
   "cell_type": "code",
   "execution_count": 45,
   "id": "a8302f89",
   "metadata": {},
   "outputs": [
    {
     "name": "stdout",
     "output_type": "stream",
     "text": [
      "0\n",
      "100\n",
      "20\n",
      "0 -18\n",
      "20 -7\n",
      "40 4\n",
      "60 15\n",
      "80 26\n",
      "100 37\n"
     ]
    }
   ],
   "source": [
    "# Fahrenheit to Celcius table\n",
    "s = int(input())\n",
    "e = int(input())\n",
    "w = int(input())\n",
    "\n",
    "while s <= e:\n",
    "    c = (s - 32) * 5/9\n",
    "    print(s , int(c))\n",
    "    s = s + w\n"
   ]
  },
  {
   "cell_type": "code",
   "execution_count": 63,
   "id": "fd820856",
   "metadata": {
    "scrolled": true
   },
   "outputs": [
    {
     "name": "stdout",
     "output_type": "stream",
     "text": [
      "5\n",
      "4\n",
      "4\n",
      "0\n",
      "6\n"
     ]
    }
   ],
   "source": [
    "\"\"\"\"Problem statement\n",
    "Write a program that performs the tasks of a simple calculator. The program should first take an integer as input and then based on that integer perform the task as given below.\n",
    "\n",
    "1. If the input is 1, then 2 integers are taken from the user and their sum is printed.\n",
    "2. If the input is 2, then 2 integers are taken from the user and their difference(1st number - 2nd number) is printed.\n",
    "3. If the input is 3, then 2 integers are taken from the user and their product is printed.\n",
    "4. If the input is 4, then 2 integers are taken from the user and the quotient obtained (on dividing 1st number by 2nd number) is printed.\n",
    "5. If the input is 5, then 2 integers are taken from the user and their remainder(1st number mod 2nd number) is printed.\n",
    "6. If the input is 6, then the program exits.\n",
    "7. For any other input, then print \"Invalid Operation\".\n",
    "Note: Each answer in next line.\"\"\"\n",
    "    \n",
    "while True:\n",
    "    choice = int(input())\n",
    "    if choice == 1:\n",
    "        a = int(input())\n",
    "        b = int(input())\n",
    "        print(a + b)\n",
    "    elif choice == 2:\n",
    "         a = int(input())\n",
    "         b = int(input())\n",
    "         print(a - b)\n",
    "    elif choice == 3:\n",
    "         a = int(input())\n",
    "         b = int(input())\n",
    "         print(a * b)\n",
    "    elif choice == 4:\n",
    "         a = int(input())\n",
    "         b = int(input())\n",
    "         print(a // b)\n",
    "    elif choice == 5:\n",
    "         a = int(input())\n",
    "         b = int(input())\n",
    "         print(a % b)\n",
    "    elif choice == 6:\n",
    "         break\n",
    "    else:\n",
    "        print(\"Invalid Operation\")"
   ]
  },
  {
   "cell_type": "code",
   "execution_count": 61,
   "id": "cbfa7b64",
   "metadata": {},
   "outputs": [
    {
     "name": "stdout",
     "output_type": "stream",
     "text": [
      "51247000\n",
      "74215\n"
     ]
    }
   ],
   "source": [
    "# Reverse of number\n",
    "num = int(input())\n",
    "rev_num = 0\n",
    "while num > 0:\n",
    "    rev_num = (rev_num * 10) + (num % 10)\n",
    "    num = num // 10\n",
    "print(rev_num)"
   ]
  },
  {
   "cell_type": "code",
   "execution_count": 7,
   "id": "58494d66",
   "metadata": {},
   "outputs": [
    {
     "name": "stdout",
     "output_type": "stream",
     "text": [
      "10\n",
      "false\n"
     ]
    }
   ],
   "source": [
    "#Problem statement\n",
    "#Check whether a given number ’n’ is a palindrome number.\n",
    "\n",
    "n=int(input())\n",
    "duplicate = n\n",
    "rev_num = 0\n",
    "while n > 0:\n",
    "    rev_num = (rev_num * 10) + (n % 10)\n",
    "    n = n // 10\n",
    "if rev_num == duplicate:\n",
    "    print(\"true\")\n",
    "else:\n",
    "    print(\"false\")"
   ]
  },
  {
   "cell_type": "code",
   "execution_count": 8,
   "id": "cb3d9ec6",
   "metadata": {},
   "outputs": [
    {
     "name": "stdout",
     "output_type": "stream",
     "text": [
      "132456\n",
      "12 9\n"
     ]
    }
   ],
   "source": [
    "# Write a program to input an integer 'n' and print the sum of all its even digits and the sum of all its odd digits separately.\n",
    "\n",
    "num = int(input())\n",
    "\n",
    "s_e = 0\n",
    "s_o = 0\n",
    "\n",
    "while num > 0:\n",
    "    c = num % 10\n",
    "    if c % 2 == 0:\n",
    "        s_e =  s_e + c\n",
    "    else:\n",
    "        s_o = s_o + c\n",
    "    num = num // 10\n",
    "\n",
    "print(s_e, s_o)"
   ]
  },
  {
   "cell_type": "code",
   "execution_count": 11,
   "id": "60b7dc7c",
   "metadata": {},
   "outputs": [
    {
     "name": "stdout",
     "output_type": "stream",
     "text": [
      "8\n",
      "21\n"
     ]
    }
   ],
   "source": [
    "#Problem statement\n",
    "#Write a program to find the Nth Fibonacci number using loops.\n",
    "\n",
    "num = int(input())\n",
    "\n",
    "count = 1\n",
    "temp = 0\n",
    "f = 1\n",
    "s = 0\n",
    "while count <= num:\n",
    "    temp = f + s\n",
    "    f = s\n",
    "    s = temp\n",
    "    count = count + 1\n",
    "print(temp)"
   ]
  }
 ],
 "metadata": {
  "kernelspec": {
   "display_name": "Python 3 (ipykernel)",
   "language": "python",
   "name": "python3"
  },
  "language_info": {
   "codemirror_mode": {
    "name": "ipython",
    "version": 3
   },
   "file_extension": ".py",
   "mimetype": "text/x-python",
   "name": "python",
   "nbconvert_exporter": "python",
   "pygments_lexer": "ipython3",
   "version": "3.11.5"
  }
 },
 "nbformat": 4,
 "nbformat_minor": 5
}
