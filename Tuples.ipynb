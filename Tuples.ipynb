a = (9, 10, 11, 12, 13, 15)
print(a)
print(a[2])