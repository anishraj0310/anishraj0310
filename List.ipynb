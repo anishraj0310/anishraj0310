{
 "cells": [
  {
   "cell_type": "code",
   "execution_count": 3,
   "id": "892334df",
   "metadata": {},
   "outputs": [
    {
     "name": "stdout",
     "output_type": "stream",
     "text": [
      "[1, 2, 3, 4, 5, 3.414]\n",
      "<class 'list'>\n"
     ]
    }
   ],
   "source": [
    "num = [1, 2, 3, 4, 5, 3.414]\n",
    "print(num)\n",
    "print(type(num))"
   ]
  },
  {
   "cell_type": "code",
   "execution_count": 6,
   "id": "dbd1d3f0",
   "metadata": {},
   "outputs": [
    {
     "name": "stdout",
     "output_type": "stream",
     "text": [
      "array('i', [1, 2, 3, 4]) <class 'array.array'>\n",
      "[1, 2, 3, 4] <class 'list'>\n"
     ]
    }
   ],
   "source": [
    "import array as arr\n",
    "my_array = arr.array('i', [1, 2, 3, 4])\n",
    "print(my_array, type(my_array))              \n",
    "my_list = list(my_array)     #Conversion into list from array\n",
    "print(my_list, type(my_list))"
   ]
  },
  {
   "cell_type": "code",
   "execution_count": 10,
   "id": "1e5d2111",
   "metadata": {},
   "outputs": [
    {
     "name": "stdout",
     "output_type": "stream",
     "text": [
      "[1, 2, 3, 4, 5]\n",
      "first element is 1\n",
      "last element is 5\n",
      "[1, 2, 3, 4]\n",
      "[1, 3, 4]\n"
     ]
    }
   ],
   "source": [
    "nums = [1,2,3,4]\n",
    "nums.append(5)\n",
    "print(nums)\n",
    "print(f\"first element is {nums[0]}\")\n",
    "\n",
    "print(f\"last element is {nums[-1]}\")\n",
    "nums.pop()\n",
    "print(nums)\n",
    "nums.pop(1)\n",
    "print(nums)"
   ]
  },
  {
   "cell_type": "code",
   "execution_count": 9,
   "id": "96baed7f",
   "metadata": {
    "scrolled": true
   },
   "outputs": [
    {
     "name": "stdout",
     "output_type": "stream",
     "text": [
      "[1, 2, 'RAM', 2.34]\n",
      "2.34\n",
      "RAM\n"
     ]
    }
   ],
   "source": [
    "random_data = [1,2,'RAM',2.34]\n",
    "print(random_data)\n",
    "print(random_data[-1])\n",
    "print(random_data[-2])"
   ]
  },
  {
   "cell_type": "code",
   "execution_count": 30,
   "id": "3b297194",
   "metadata": {},
   "outputs": [
    {
     "name": "stdout",
     "output_type": "stream",
     "text": [
      "45\n",
      "Adding Again\n",
      "45\n"
     ]
    }
   ],
   "source": [
    "marks = [1,2,3,4,5,6,7,8,9]\n",
    "tot = 0\n",
    "for num in marks:\n",
    "    tot += num\n",
    "print(tot)\n",
    "\n",
    "print(\"Adding Again\")\n",
    "\n",
    "tot2 = 0\n",
    "for i in range(len(marks)):\n",
    "    tot2 += marks[i]\n",
    "print(tot2)"
   ]
  },
  {
   "cell_type": "code",
   "execution_count": null,
   "id": "85f3248d",
   "metadata": {},
   "outputs": [],
   "source": [
    "\"\"\"\n",
    "Adding : \n",
    "Append - Adds the elements at the the end of list\n",
    "insert - Insert at any position in the list\n",
    "extend- concatation of 2 list\n",
    "\n",
    "Reemoving : \n",
    "pop : Removes last element & if element is paased it removes that index\n",
    "remove : removes the first occurance of element\n",
    "clear : clear the list or remove all list\n",
    "\n",
    "\"\"\""
   ]
  },
  {
   "cell_type": "code",
   "execution_count": 8,
   "id": "a1a81237",
   "metadata": {},
   "outputs": [
    {
     "name": "stdout",
     "output_type": "stream",
     "text": [
      "[1, 2, 3]\n",
      "[1, 5, 2, 3]\n",
      "[1, 5, 2, 3, 10, 12, 13]\n"
     ]
    }
   ],
   "source": [
    "num = [1 ,2]\n",
    "num.append(3)\n",
    "print(num)\n",
    "num.insert(1,5)\n",
    "print(num)\n",
    "num.extend([10,12,13])\n",
    "print(num)"
   ]
  },
  {
   "cell_type": "code",
   "execution_count": 16,
   "id": "add11459",
   "metadata": {},
   "outputs": [
    {
     "name": "stdout",
     "output_type": "stream",
     "text": [
      "[1, 2, 3, 4]\n",
      "[1, 2, 4]\n",
      "[1, 4]\n",
      "[]\n"
     ]
    }
   ],
   "source": [
    "nums = [1,2,3,4,5]\n",
    "nums.pop()\n",
    "print(nums)\n",
    "nums.pop(2)\n",
    "print(nums)\n",
    "nums.remove(2)\n",
    "print(nums)\n",
    "nums.clear()\n",
    "print(nums)"
   ]
  },
  {
   "cell_type": "code",
   "execution_count": null,
   "id": "b79daf26",
   "metadata": {},
   "outputs": [],
   "source": [
    "\"\"\"\n",
    "copy : it creates the copy of list\n",
    "index : Find the first index where that element occurs\n",
    "reverse : Reverse the list\n",
    "sort : sort the list in ascending order\n",
    "\"\"\""
   ]
  },
  {
   "cell_type": "code",
   "execution_count": 18,
   "id": "589c275c",
   "metadata": {},
   "outputs": [
    {
     "name": "stdout",
     "output_type": "stream",
     "text": [
      "[1, 2, 3, 4, 5]\n",
      "[1, 2, 3, 4]\n"
     ]
    }
   ],
   "source": [
    "nums= [1,2,3,4,5]\n",
    "nums2 = nums            # as it affects the nums list beacause it points to the same address where list is kept.\n",
    "print(nums2)\n",
    "nums2.pop()          \n",
    "print(nums)"
   ]
  },
  {
   "cell_type": "code",
   "execution_count": 20,
   "id": "2e0a2ef6",
   "metadata": {},
   "outputs": [
    {
     "name": "stdout",
     "output_type": "stream",
     "text": [
      "[1, 2, 3, 4, 5]\n",
      "[1, 2, 3, 4]\n"
     ]
    }
   ],
   "source": [
    "nums= [1,2,3,4,5]\n",
    "nums2 = nums.copy()       # as it affect only where operaation is called beacause it makes the copy of list in nums2\n",
    "nums2.pop()          \n",
    "print(nums)\n",
    "print(nums2)"
   ]
  },
  {
   "cell_type": "code",
   "execution_count": 22,
   "id": "0085c7be",
   "metadata": {},
   "outputs": [
    {
     "name": "stdout",
     "output_type": "stream",
     "text": [
      "[6, 5, 4, 3, 2, 1]\n"
     ]
    }
   ],
   "source": [
    "nums = [1,2,3,4,5,6]\n",
    "nums.reverse()\n",
    "print(nums)"
   ]
  },
  {
   "cell_type": "code",
   "execution_count": 24,
   "id": "d3d0e854",
   "metadata": {},
   "outputs": [
    {
     "name": "stdout",
     "output_type": "stream",
     "text": [
      "[1, 3, 6, 10, 44, 50]\n"
     ]
    }
   ],
   "source": [
    "nums = [10,50,3,44,1,6]\n",
    "nums.sort()\n",
    "print(nums)"
   ]
  },
  {
   "cell_type": "code",
   "execution_count": 26,
   "id": "2eadb853",
   "metadata": {},
   "outputs": [
    {
     "name": "stdout",
     "output_type": "stream",
     "text": [
      "[1]\n",
      "[1, 1, 1]\n"
     ]
    }
   ],
   "source": [
    "nums = [1]\n",
    "nums2 = nums * 3\n",
    "print(nums)\n",
    "print(nums2)"
   ]
  },
  {
   "cell_type": "code",
   "execution_count": 29,
   "id": "c647ff0b",
   "metadata": {},
   "outputs": [
    {
     "name": "stdout",
     "output_type": "stream",
     "text": [
      "5\n",
      "1\n",
      "2\n",
      "3\n",
      "4\n",
      "5\n",
      "['1', '2', '3', '4', '5']\n"
     ]
    }
   ],
   "source": [
    "n = int(input())\n",
    "li = []\n",
    "for i in range(n):\n",
    "    li.append(input())\n",
    "print(li)"
   ]
  },
  {
   "cell_type": "markdown",
   "id": "6add259f",
   "metadata": {},
   "source": [
    "### Slicing"
   ]
  },
  {
   "cell_type": "code",
   "execution_count": 27,
   "id": "344eb290",
   "metadata": {},
   "outputs": [
    {
     "name": "stdout",
     "output_type": "stream",
     "text": [
      "[2, 3, 4]\n"
     ]
    }
   ],
   "source": [
    "nums = [1,2,3,4,5]\n",
    "nums2 = []\n",
    "for i in range (1, len(nums)-1):\n",
    "    nums2.append(nums[i])\n",
    "print(nums2)"
   ]
  },
  {
   "cell_type": "code",
   "execution_count": 28,
   "id": "f83ff584",
   "metadata": {},
   "outputs": [
    {
     "name": "stdout",
     "output_type": "stream",
     "text": [
      "[1, 2, 3, 4, 5]\n"
     ]
    }
   ],
   "source": [
    "nums = [1,2,3,4,5]\n",
    "nums2 = nums[1:4]    #[i,j] -> slice of element[i, i+1, i+2, ..... j-1]. As it removes the index 1 and index 4 element of list\n",
    "print(nums)"
   ]
  },
  {
   "cell_type": "code",
   "execution_count": 39,
   "id": "ece6a235",
   "metadata": {},
   "outputs": [
    {
     "ename": "KeyboardInterrupt",
     "evalue": "Interrupted by user",
     "output_type": "error",
     "traceback": [
      "\u001b[1;31m---------------------------------------------------------------------------\u001b[0m",
      "\u001b[1;31mKeyboardInterrupt\u001b[0m                         Traceback (most recent call last)",
      "Cell \u001b[1;32mIn[39], line 2\u001b[0m\n\u001b[0;32m      1\u001b[0m \u001b[38;5;66;03m#Finding the largest element in list\u001b[39;00m\n\u001b[1;32m----> 2\u001b[0m all_marks \u001b[38;5;241m=\u001b[39m \u001b[38;5;28mlist\u001b[39m(\u001b[38;5;28mmap\u001b[39m(\u001b[38;5;28mint\u001b[39m, \u001b[38;5;28minput\u001b[39m()\u001b[38;5;241m.\u001b[39msplit(\u001b[38;5;124m\"\u001b[39m\u001b[38;5;124m \u001b[39m\u001b[38;5;124m\"\u001b[39m)))     \u001b[38;5;66;03m#Taking List of Integers as input\u001b[39;00m\n\u001b[0;32m      4\u001b[0m max_marks \u001b[38;5;241m=\u001b[39m all_marks[\u001b[38;5;241m0\u001b[39m]\n\u001b[0;32m      6\u001b[0m \u001b[38;5;28;01mfor\u001b[39;00m marks \u001b[38;5;129;01min\u001b[39;00m all_marks:\n",
      "File \u001b[1;32mC:\\ProgramData\\anaconda3\\Lib\\site-packages\\ipykernel\\kernelbase.py:1175\u001b[0m, in \u001b[0;36mKernel.raw_input\u001b[1;34m(self, prompt)\u001b[0m\n\u001b[0;32m   1171\u001b[0m \u001b[38;5;28;01mif\u001b[39;00m \u001b[38;5;129;01mnot\u001b[39;00m \u001b[38;5;28mself\u001b[39m\u001b[38;5;241m.\u001b[39m_allow_stdin:\n\u001b[0;32m   1172\u001b[0m     \u001b[38;5;28;01mraise\u001b[39;00m StdinNotImplementedError(\n\u001b[0;32m   1173\u001b[0m         \u001b[38;5;124m\"\u001b[39m\u001b[38;5;124mraw_input was called, but this frontend does not support input requests.\u001b[39m\u001b[38;5;124m\"\u001b[39m\n\u001b[0;32m   1174\u001b[0m     )\n\u001b[1;32m-> 1175\u001b[0m \u001b[38;5;28;01mreturn\u001b[39;00m \u001b[38;5;28mself\u001b[39m\u001b[38;5;241m.\u001b[39m_input_request(\n\u001b[0;32m   1176\u001b[0m     \u001b[38;5;28mstr\u001b[39m(prompt),\n\u001b[0;32m   1177\u001b[0m     \u001b[38;5;28mself\u001b[39m\u001b[38;5;241m.\u001b[39m_parent_ident[\u001b[38;5;124m\"\u001b[39m\u001b[38;5;124mshell\u001b[39m\u001b[38;5;124m\"\u001b[39m],\n\u001b[0;32m   1178\u001b[0m     \u001b[38;5;28mself\u001b[39m\u001b[38;5;241m.\u001b[39mget_parent(\u001b[38;5;124m\"\u001b[39m\u001b[38;5;124mshell\u001b[39m\u001b[38;5;124m\"\u001b[39m),\n\u001b[0;32m   1179\u001b[0m     password\u001b[38;5;241m=\u001b[39m\u001b[38;5;28;01mFalse\u001b[39;00m,\n\u001b[0;32m   1180\u001b[0m )\n",
      "File \u001b[1;32mC:\\ProgramData\\anaconda3\\Lib\\site-packages\\ipykernel\\kernelbase.py:1217\u001b[0m, in \u001b[0;36mKernel._input_request\u001b[1;34m(self, prompt, ident, parent, password)\u001b[0m\n\u001b[0;32m   1214\u001b[0m             \u001b[38;5;28;01mbreak\u001b[39;00m\n\u001b[0;32m   1215\u001b[0m \u001b[38;5;28;01mexcept\u001b[39;00m \u001b[38;5;167;01mKeyboardInterrupt\u001b[39;00m:\n\u001b[0;32m   1216\u001b[0m     \u001b[38;5;66;03m# re-raise KeyboardInterrupt, to truncate traceback\u001b[39;00m\n\u001b[1;32m-> 1217\u001b[0m     \u001b[38;5;28;01mraise\u001b[39;00m \u001b[38;5;167;01mKeyboardInterrupt\u001b[39;00m(\u001b[38;5;124m\"\u001b[39m\u001b[38;5;124mInterrupted by user\u001b[39m\u001b[38;5;124m\"\u001b[39m) \u001b[38;5;28;01mfrom\u001b[39;00m \u001b[38;5;28;01mNone\u001b[39;00m\n\u001b[0;32m   1218\u001b[0m \u001b[38;5;28;01mexcept\u001b[39;00m \u001b[38;5;167;01mException\u001b[39;00m:\n\u001b[0;32m   1219\u001b[0m     \u001b[38;5;28mself\u001b[39m\u001b[38;5;241m.\u001b[39mlog\u001b[38;5;241m.\u001b[39mwarning(\u001b[38;5;124m\"\u001b[39m\u001b[38;5;124mInvalid Message:\u001b[39m\u001b[38;5;124m\"\u001b[39m, exc_info\u001b[38;5;241m=\u001b[39m\u001b[38;5;28;01mTrue\u001b[39;00m)\n",
      "\u001b[1;31mKeyboardInterrupt\u001b[0m: Interrupted by user"
     ]
    }
   ],
   "source": [
    "#Finding the largest element in list\n",
    "all_marks = list(map(int, input().split(\" \")))     #Taking List of Integers as input\n",
    "\n",
    "max_marks = all_marks[0]\n",
    "\n",
    "for marks in all_marks:\n",
    "    max_marks = max(marks, max_marks)\n",
    "print(max_marks)"
   ]
  },
  {
   "cell_type": "code",
   "execution_count": 3,
   "id": "272b2aa3",
   "metadata": {},
   "outputs": [
    {
     "name": "stdout",
     "output_type": "stream",
     "text": [
      "45 78 79 122 98 20\n",
      "20\n"
     ]
    }
   ],
   "source": [
    "#smallest number in array\n",
    "\n",
    "numbers = list(map(int, input().split(\" \")))\n",
    "\n",
    "min_num = numbers[0]\n",
    "\n",
    "for mini in numbers:\n",
    "    min_num = min(mini, min_num)\n",
    "print(min_num)"
   ]
  },
  {
   "cell_type": "code",
   "execution_count": 18,
   "id": "a67c4a49",
   "metadata": {},
   "outputs": [
    {
     "name": "stdout",
     "output_type": "stream",
     "text": [
      "3\n",
      "1 2 2 3 \n",
      "5\n"
     ]
    }
   ],
   "source": [
    "# Sum of an Array\n",
    "\n",
    "n=int(input())\n",
    "li=[int(x) for x in input().split()]\n",
    "sum=0\n",
    "for i in range(n):\n",
    "    sum=sum+li[i]\n",
    "print(sum)"
   ]
  },
  {
   "cell_type": "code",
   "execution_count": 25,
   "id": "f1bd14e8",
   "metadata": {},
   "outputs": [
    {
     "name": "stdout",
     "output_type": "stream",
     "text": [
      "1 2 3 4 5 6 8\n",
      "List is not Palindrome\n"
     ]
    }
   ],
   "source": [
    "#Array is Palindrome or not\n",
    "\n",
    "nums = list(map(int, input().split(\" \")))\n",
    "\n",
    "reverse_nums = nums.copy()\n",
    "reverse_nums.reverse()  #  For reversing the list\n",
    "\n",
    "is_Palindrome = True\n",
    "\n",
    "for i in range (len(nums)):\n",
    "    if nums[i] != reverse_nums[i]:\n",
    "        is_Palindrome = False\n",
    "        break\n",
    "\n",
    "if is_Palindrome:\n",
    "    print(\"List is Palindrome\")\n",
    "else:\n",
    "    print(\"List is not Palindrome\")"
   ]
  },
  {
   "cell_type": "code",
   "execution_count": 30,
   "id": "81fbf3cf",
   "metadata": {},
   "outputs": [
    {
     "name": "stdout",
     "output_type": "stream",
     "text": [
      "1 2 2 1 2 1 2 1\n",
      "List is not Palindrome\n"
     ]
    }
   ],
   "source": [
    "#Array is Palindrome or not\n",
    "\n",
    "nums = list(map(int, input().split(\" \")))\n",
    "\n",
    "n = len(nums)\n",
    "l_ptr = 0\n",
    "r_ptr = len(nums) - 1\n",
    "is_Palindrome = True\n",
    "while l_ptr <= n/2:\n",
    "    if nums[l_ptr] != nums[r_ptr]:\n",
    "        is_Palindrome = False\n",
    "        break\n",
    "    l_ptr += 1\n",
    "    r_ptr -= 1\n",
    "    \n",
    "if is_Palindrome:\n",
    "    print(\"List is Palindrome\")\n",
    "else:\n",
    "    print(\"List is not Palindrome\")\n"
   ]
  },
  {
   "cell_type": "markdown",
   "id": "a6995404",
   "metadata": {},
   "source": [
    "### Swap Alternate elements in Array/List"
   ]
  },
  {
   "cell_type": "code",
   "execution_count": 42,
   "id": "a3d155f1",
   "metadata": {},
   "outputs": [
    {
     "name": "stdout",
     "output_type": "stream",
     "text": [
      "1 2 3 4 5\n",
      "[2, 1, 4, 3, 5]\n"
     ]
    }
   ],
   "source": [
    "nums = list(map(int, input().split(\" \")))\n",
    "\n",
    "n = len(nums)\n",
    "for i in range(0, (n - 1), 2):\n",
    "    temp = nums[i]\n",
    "    nums[i] = nums[i + 1]\n",
    "    nums[i + 1] = temp\n",
    "    \n",
    "print(nums)   "
   ]
  },
  {
   "cell_type": "code",
   "execution_count": 44,
   "id": "1adc9626",
   "metadata": {},
   "outputs": [
    {
     "name": "stdout",
     "output_type": "stream",
     "text": [
      "[2, 4, 6, 2, 1, 3, 3, 5]\n"
     ]
    }
   ],
   "source": [
    "#Rearrange numbers\n",
    "\n",
    "def arrange_into_even_odd(arr):\n",
    "    first_odd_index = 0\n",
    "    for i in range(len(arr)):\n",
    "        if arr[i] % 2 == 0:\n",
    "            arr[i], arr[first_odd_index] = arr[first_odd_index] , arr[i]\n",
    "            first_odd_index += 1\n",
    "            \n",
    "    print(arr)\n",
    "    \n",
    "arr = [1, 2, 3, 5, 4, 6, 3, 2]\n",
    "arrange_into_even_odd(arr)"
   ]
  },
  {
   "cell_type": "markdown",
   "id": "959fee8d",
   "metadata": {},
   "source": [
    "### Problem statement\n",
    "You have been given an empty array(ARR) and its size N. The only input taken from the user will be N and you need not worry about the array.\n",
    "\n",
    "Your task is to populate the array using the integer values in the range 1 to N(both inclusive) in the order - 1,3,5,.......,6,4,2."
   ]
  },
  {
   "cell_type": "code",
   "execution_count": 38,
   "id": "25ae2a25",
   "metadata": {
    "scrolled": true
   },
   "outputs": [
    {
     "name": "stdout",
     "output_type": "stream",
     "text": [
      "6\n",
      "9 3 6 12 4 32\n",
      "3 9 12 6 32 4 \n",
      "\n"
     ]
    }
   ],
   "source": [
    "def swapAlternate(arr, n) :\n",
    "    #Your code goes here\n",
    "    for i in range(0, (n - 1), 2):\n",
    "        temp = arr[i]\n",
    "        arr[i] = arr[i + 1]\n",
    "        arr[i + 1] = temp\n",
    "      \n",
    "\n",
    "def printList(arr,n) :\n",
    "    for i in range(n) : \n",
    "        print(arr[i], end = ' ') \n",
    "    print()\n",
    "    \n",
    "def takeInput() :\n",
    "    n = int(input().strip())\n",
    "    if n == 0 : \n",
    "        return list(), 0 \n",
    "    arr = list(map(int, input().strip().split(\" \"))) \n",
    "    return arr, n\n",
    "\n",
    "arr, n = takeInput()\n",
    "swapAlternate(arr, n)\n",
    "printList(arr, n) \n",
    "print() "
   ]
  },
  {
   "cell_type": "markdown",
   "id": "3f50d0ce",
   "metadata": {},
   "source": [
    "### Pair Sum"
   ]
  },
  {
   "cell_type": "code",
   "execution_count": 10,
   "id": "3a2c4853",
   "metadata": {},
   "outputs": [
    {
     "data": {
      "text/plain": [
       "5"
      ]
     },
     "execution_count": 10,
     "metadata": {},
     "output_type": "execute_result"
    }
   ],
   "source": [
    "def pair_sum(arr, x):\n",
    "    total = 0\n",
    "    for i in range (len(arr)):\n",
    "        left = arr[i]\n",
    "        expected = x - left\n",
    "        for j in range (i + 1, len(arr)):\n",
    "            if arr[j] == expected:\n",
    "                total = total + 1\n",
    "    return total\n",
    "\n",
    "\n",
    "\n",
    "pair_sum([1,3,6,2,5,4,3,2,4], 8)"
   ]
  },
  {
   "cell_type": "markdown",
   "id": "5f74951d",
   "metadata": {},
   "source": [
    "### You have been given a random integer array/list(ARR) and a number X. Find and return the number of triplets in the array/list which sum to X."
   ]
  },
  {
   "cell_type": "code",
   "execution_count": 12,
   "id": "f4b8e7e5",
   "metadata": {},
   "outputs": [
    {
     "data": {
      "text/plain": [
       "5"
      ]
     },
     "execution_count": 12,
     "metadata": {},
     "output_type": "execute_result"
    }
   ],
   "source": [
    "def findTriplet(arr, n, x) :\n",
    "    numTriplets = 0 \n",
    "    for i in range(n) : \n",
    "        for j in range((i + 1), n) :\n",
    "            for k in range((j + 1), n) : \n",
    "                if (arr[i] + arr[j] + arr[k]) == x :\n",
    "                    numTriplets += 1 \n",
    "    return numTriplets\n",
    "\n",
    "findTriplet([1,2,3,4,5,6,7],7,12)"
   ]
  },
  {
   "cell_type": "markdown",
   "id": "4411df97",
   "metadata": {},
   "source": [
    "### Linear Serach"
   ]
  },
  {
   "cell_type": "code",
   "execution_count": 17,
   "id": "8217efc5",
   "metadata": {},
   "outputs": [
    {
     "name": "stdout",
     "output_type": "stream",
     "text": [
      "4\n"
     ]
    }
   ],
   "source": [
    "\n",
    "def linearSearch(arr, n, x) :\n",
    "    #Loop through the array from the beginning to the end\n",
    "    for i in range(n):\n",
    "        #Check if the current element is equal to x\n",
    "        if arr[i] == x:\n",
    "            #Return the index of the element\n",
    "            return i\n",
    "    #If the loop ends without finding x, return -1\n",
    "    return -1\n",
    "\n",
    "\n",
    "print(linearSearch([2 ,13, 4, 1, 3, 6, 28],7,3))\n"
   ]
  },
  {
   "cell_type": "markdown",
   "id": "7bf122ca",
   "metadata": {},
   "source": [
    "# Sort 0 1"
   ]
  },
  {
   "cell_type": "code",
   "execution_count": 36,
   "id": "0bcc40e0",
   "metadata": {},
   "outputs": [
    {
     "name": "stdout",
     "output_type": "stream",
     "text": [
      "7\n",
      "1 0 1 0 1 1 0\n",
      "0 0 0 1 1 1 1 \n",
      "\n"
     ]
    }
   ],
   "source": [
    "def sortZeroesAndOne(arr, n) : \n",
    "    nextZero = 0 \n",
    "    for i in range(n) : \n",
    "        if arr[i] == 0 :\n",
    "            temp = arr[nextZero] \n",
    "            arr[nextZero] = arr[i]\n",
    "            arr[i] = temp \n",
    "            nextZero += 1\n",
    "            \n",
    "def printList(arr,n) :\n",
    "    for i in range(n) : \n",
    "        print(arr[i], end = ' ') \n",
    "    print()\n",
    "    \n",
    "def takeInput() :\n",
    "    n = int(input().strip())\n",
    "    if n == 0 : \n",
    "        return list(), 0 \n",
    "    arr = list(map(int, input().strip().split(\" \"))) \n",
    "    return arr, n\n",
    "\n",
    "arr, n = takeInput()\n",
    "sortZeroesAndOne(arr, n)\n",
    "printList(arr, n) \n",
    "print() "
   ]
  },
  {
   "cell_type": "markdown",
   "id": "87393ddd",
   "metadata": {},
   "source": [
    " You have been given an integer array/list(ARR) of size N. Where N is equal to [2M + 1].\n",
    "\n",
    "Now, in the given array/list, 'M' numbers are present twice and one number is present only once.\n",
    "\n",
    "You need to find and return that number which is unique in the array/list.\n",
    "\n",
    " Note:\n",
    "Unique element is always present in the array/list according to the given condition."
   ]
  },
  {
   "cell_type": "code",
   "execution_count": 47,
   "id": "8e1f7280",
   "metadata": {},
   "outputs": [
    {
     "name": "stdout",
     "output_type": "stream",
     "text": [
      "7\n",
      "2 3 1 6 3 6 2\n"
     ]
    },
    {
     "data": {
      "text/plain": [
       "1"
      ]
     },
     "execution_count": 47,
     "metadata": {},
     "output_type": "execute_result"
    }
   ],
   "source": [
    "def findUnique(arr, n) :\n",
    "    for i in range(n) :\n",
    "        j = 0\n",
    "        while j < n :\n",
    "            if i != j :\n",
    "                if arr[i] == arr[j] :\n",
    "                    break\n",
    "            j += 1\n",
    "        if j == n : \n",
    "            return arr[i]\n",
    "        \n",
    "    print([aar[i]])\n",
    "\n",
    "def takeInput() :\n",
    "    n = int(input())\n",
    "    if n == 0 :\n",
    "        return list(), 0\n",
    "    arr = list(map(int, input().rstrip().split(\" \"))) \n",
    "    return arr, n\n",
    "\n",
    "arr, n = takeInput()\n",
    "findUnique(arr, n)"
   ]
  },
  {
   "cell_type": "markdown",
   "id": "4b3da8e2",
   "metadata": {},
   "source": [
    "# Find Duplicate"
   ]
  },
  {
   "cell_type": "code",
   "execution_count": 48,
   "id": "69a9d342",
   "metadata": {},
   "outputs": [
    {
     "name": "stdout",
     "output_type": "stream",
     "text": [
      "9\n",
      "0 7 2 5 4 7 1 3 6\n"
     ]
    },
    {
     "data": {
      "text/plain": [
       "7"
      ]
     },
     "execution_count": 48,
     "metadata": {},
     "output_type": "execute_result"
    }
   ],
   "source": [
    "def duplicateNumber(arr, size) :\n",
    "    for i in range(size - 1) :\n",
    "        for j in range((i + 1), size) :\n",
    "            if arr[i] == arr[j] :\n",
    "                return arr[i] \n",
    "def takeInput() :\n",
    "    n = int(input()) \n",
    "    if n == 0 :\n",
    "        return list(), 0\n",
    "    arr = list(map(int, input().strip().split())) \n",
    "    return arr, n\n",
    "\n",
    "arr, n = takeInput()\n",
    "duplicateNumber(arr, n)"
   ]
  },
  {
   "cell_type": "markdown",
   "id": "ede82955",
   "metadata": {},
   "source": [
    "# Second largest in Array\n"
   ]
  },
  {
   "cell_type": "code",
   "execution_count": 51,
   "id": "831ed7cb",
   "metadata": {},
   "outputs": [
    {
     "name": "stdout",
     "output_type": "stream",
     "text": [
      "5\n",
      "4 3 10 9 2\n"
     ]
    },
    {
     "data": {
      "text/plain": [
       "9"
      ]
     },
     "execution_count": 51,
     "metadata": {},
     "output_type": "execute_result"
    }
   ],
   "source": [
    "def secondLargestElement(arr, n):\n",
    "    if n == 0 : \n",
    "        return -10000\n",
    "    largest = arr[0] \n",
    "    secondLargest = -10000\n",
    "    for i in range(n) : \n",
    "        if largest < arr[i] : \n",
    "            secondLargest = largest \n",
    "            largest = arr[i]\n",
    "        elif secondLargest < arr[i] and arr[i] != largest :\n",
    "            secondLargest = arr[i] \n",
    "    return secondLargest\n",
    "    print(secondLargest)\n",
    "\n",
    "\n",
    "def takeInput() :\n",
    "    n = int(input()) \n",
    "    if n == 0 :\n",
    "        return list(), 0\n",
    "    arr = list(map(int, input().strip().split())) \n",
    "    return arr, n\n",
    "\n",
    "arr, n = takeInput()\n",
    "secondLargestElement(arr, n)"
   ]
  },
  {
   "cell_type": "markdown",
   "id": "3d2e2587",
   "metadata": {},
   "source": [
    "### Intersection of 2 arrays\n"
   ]
  },
  {
   "cell_type": "code",
   "execution_count": 56,
   "id": "ece73375",
   "metadata": {},
   "outputs": [
    {
     "name": "stdout",
     "output_type": "stream",
     "text": [
      "4\n",
      "2 3 4 7 \n",
      "6\n",
      "2 6 8 5 4 3\n",
      "2 3 4 \n"
     ]
    }
   ],
   "source": [
    "import sys\n",
    "\n",
    "def intersections(arr1, n, arr2, m):\n",
    "    for i in range(n) :\n",
    "        for j in range(m) :\n",
    "            if arr1[i] == arr2[j] :\n",
    "                print(arr1[i], end = \" \") \n",
    "                arr2[j] = sys.maxsize \n",
    "                break \n",
    "def takeInput() :\n",
    "    n = int(input()) \n",
    "    if n == 0 :\n",
    "        return list(), 0\n",
    "    arr = list(map(int, input().strip().split())) \n",
    "    return arr, n\n",
    "\n",
    "arr1, n = takeInput()\n",
    "arr2, m = takeInput()\n",
    "intersections(arr1, n, arr2, m)\n",
    "print() \n"
   ]
  }
 ],
 "metadata": {
  "kernelspec": {
   "display_name": "Python 3 (ipykernel)",
   "language": "python",
   "name": "python3"
  },
  "language_info": {
   "codemirror_mode": {
    "name": "ipython",
    "version": 3
   },
   "file_extension": ".py",
   "mimetype": "text/x-python",
   "name": "python",
   "nbconvert_exporter": "python",
   "pygments_lexer": "ipython3",
   "version": "3.11.4"
  }
 },
 "nbformat": 4,
 "nbformat_minor": 5
}
