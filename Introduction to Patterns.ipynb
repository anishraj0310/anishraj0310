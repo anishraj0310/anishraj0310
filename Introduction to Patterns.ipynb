{
 "cells": [
  {
   "cell_type": "code",
   "execution_count": null,
   "id": "3cc0f230",
   "metadata": {},
   "outputs": [],
   "source": [
    "n = int(input())\n",
    "i = 1\n",
    "while i <= n:\n",
    "    j = 1\n",
    "    while j <= n:\n",
    "        # print jth column\n",
    "        print('*', end = '')\n",
    "        j = j + 1\n",
    "    print()\n",
    "    i = i + 1"
   ]
  },
  {
   "cell_type": "markdown",
   "id": "3abb669a",
   "metadata": {},
   "source": [
    "Print the following pattern for the given N number of rows.\n",
    "\n",
    "Pattern for N = 4\n",
    "4444\n",
    "4444\n",
    "4444\n",
    "4444"
   ]
  },
  {
   "cell_type": "code",
   "execution_count": null,
   "id": "58235a3c",
   "metadata": {},
   "outputs": [],
   "source": [
    "n = int(input())\n",
    "i = 1\n",
    "while i <= n:\n",
    "    j = 1\n",
    "    while j <= n:\n",
    "        # print jth column\n",
    "        print(n, end = '')\n",
    "        j = j + 1\n",
    "    print()\n",
    "    i = i + 1"
   ]
  },
  {
   "cell_type": "markdown",
   "id": "67ab64fa",
   "metadata": {},
   "source": [
    "### Square pattern"
   ]
  },
  {
   "cell_type": "markdown",
   "id": "8dbcd3e7",
   "metadata": {},
   "source": [
    "1111\n",
    "2222\n",
    "3333\n",
    "4444"
   ]
  },
  {
   "cell_type": "code",
   "execution_count": null,
   "id": "d1ac07bb",
   "metadata": {},
   "outputs": [],
   "source": [
    "n = int(input())\n",
    "i = 1\n",
    "while(i <= n):\n",
    "    j = 1\n",
    "    while j <= n:\n",
    "        print(i, end = '')\n",
    "        j = j + 1\n",
    "    print()\n",
    "    i = i + 1"
   ]
  },
  {
   "cell_type": "markdown",
   "id": "44a56ffb",
   "metadata": {},
   "source": [
    "1234\n",
    "1234\n",
    "1234\n",
    "1234"
   ]
  },
  {
   "cell_type": "code",
   "execution_count": null,
   "id": "441cf1d7",
   "metadata": {},
   "outputs": [],
   "source": [
    "n = int(input())\n",
    "i = 1\n",
    "while i <= n:\n",
    "    j = 1\n",
    "    while j <= n:\n",
    "        # print jth column\n",
    "        print(j, end = '')\n",
    "        j = j + 1\n",
    "    print()\n",
    "    i = i + 1"
   ]
  },
  {
   "cell_type": "markdown",
   "id": "3f88ed7e",
   "metadata": {},
   "source": [
    "4321\n",
    "4321\n",
    "4321\n",
    "4321"
   ]
  },
  {
   "cell_type": "code",
   "execution_count": null,
   "id": "79baeec2",
   "metadata": {},
   "outputs": [],
   "source": [
    "n = int(input())\n",
    "i = 1\n",
    "while i <= n:\n",
    "    j = 1\n",
    "    while j <= n:\n",
    "        # print jth column\n",
    "        print(n - j + 1, end = '')\n",
    "        j = j + 1\n",
    "    print()\n",
    "    i = i + 1"
   ]
  },
  {
   "cell_type": "markdown",
   "id": "ce01e572",
   "metadata": {},
   "source": [
    "### Tringle Patterns"
   ]
  },
  {
   "cell_type": "markdown",
   "id": "6049d00e",
   "metadata": {},
   "source": [
    "1\n",
    "12\n",
    "123\n",
    "1234"
   ]
  },
  {
   "cell_type": "code",
   "execution_count": 1,
   "id": "faf9beab",
   "metadata": {},
   "outputs": [
    {
     "name": "stdout",
     "output_type": "stream",
     "text": [
      "5\n",
      "1\n",
      "12\n",
      "123\n",
      "1234\n",
      "12345\n"
     ]
    }
   ],
   "source": [
    "n = int(input())\n",
    "i = 1\n",
    "while i <= n:\n",
    "    j = 1\n",
    "    while j <= i:\n",
    "        # print jth column\n",
    "        print(j, end = '')\n",
    "        j = j + 1\n",
    "    print()\n",
    "    i = i + 1"
   ]
  },
  {
   "cell_type": "markdown",
   "id": "0ceb21c0",
   "metadata": {},
   "source": [
    "1\n",
    "23\n",
    "345\n",
    "4567"
   ]
  },
  {
   "cell_type": "code",
   "execution_count": 2,
   "id": "af3a67f4",
   "metadata": {},
   "outputs": [
    {
     "name": "stdout",
     "output_type": "stream",
     "text": [
      "5\n",
      "1\n",
      "23\n",
      "345\n",
      "4567\n",
      "56789\n"
     ]
    }
   ],
   "source": [
    "n = int(input())\n",
    "i = 1\n",
    "while i<= n:\n",
    "    j = 1\n",
    "    p = i\n",
    "    while j <= i:\n",
    "        print(p, end='')\n",
    "        j = j + 1\n",
    "        p = p + 1\n",
    "    print()\n",
    "    i = i + 1"
   ]
  },
  {
   "cell_type": "markdown",
   "id": "ef4d885d",
   "metadata": {},
   "source": [
    "1\n",
    "23\n",
    "456\n",
    "78910"
   ]
  },
  {
   "cell_type": "code",
   "execution_count": 3,
   "id": "b7cffefb",
   "metadata": {},
   "outputs": [
    {
     "name": "stdout",
     "output_type": "stream",
     "text": [
      "5\n",
      "1\n",
      "23\n",
      "456\n",
      "78910\n",
      "1112131415\n"
     ]
    }
   ],
   "source": [
    "n = int(input())\n",
    "i = 1\n",
    "p = 1\n",
    "while i<= n:\n",
    "    j = 1\n",
    "    while j <= i:\n",
    "        print(p, end='')\n",
    "        j = j + 1\n",
    "        p = p + 1\n",
    "    print()\n",
    "    i = i + 1"
   ]
  },
  {
   "cell_type": "raw",
   "id": "7422ce41",
   "metadata": {},
   "source": [
    "Print the following pattern for the given N number of rows.\n",
    "\n",
    "Pattern for N = 4\n",
    "*\n",
    "**\n",
    "***\n",
    "****"
   ]
  },
  {
   "cell_type": "code",
   "execution_count": 4,
   "id": "5d950555",
   "metadata": {},
   "outputs": [
    {
     "name": "stdout",
     "output_type": "stream",
     "text": [
      "4\n",
      "*\n",
      "**\n",
      "***\n",
      "****\n"
     ]
    }
   ],
   "source": [
    "n = int(input())\n",
    "\n",
    "i = 1\n",
    "while i <= n:\n",
    "    j = 1\n",
    "    while j <= i:\n",
    "        print('*', end='')\n",
    "        j = j + 1\n",
    "    print()\n",
    "    i = i +1"
   ]
  },
  {
   "cell_type": "markdown",
   "id": "df743937",
   "metadata": {},
   "source": [
    "Problem statement\n",
    "Print the following pattern for the given N number of rows.\n",
    "\n",
    "Pattern for N = 4\n",
    "1\n",
    "22\n",
    "333\n",
    "4444"
   ]
  },
  {
   "cell_type": "code",
   "execution_count": null,
   "id": "27ee5a2d",
   "metadata": {},
   "outputs": [],
   "source": [
    "n = int(input())\n",
    "\n",
    "i = 1\n",
    "while i <= n:\n",
    "    j = 1\n",
    "    while j <= i:\n",
    "        print(i, end=\"\")\n",
    "        j = j + 1\n",
    "    print()\n",
    "    i = i +1"
   ]
  },
  {
   "cell_type": "markdown",
   "id": "313beb38",
   "metadata": {},
   "source": [
    "Print the following pattern for the given N number of rows.\n",
    "\n",
    "Pattern for N = 4\n",
    "1\n",
    "21\n",
    "321\n",
    "4321"
   ]
  },
  {
   "cell_type": "code",
   "execution_count": null,
   "id": "c1462ff3",
   "metadata": {},
   "outputs": [],
   "source": [
    "n = int(input())\n",
    "i = 1\n",
    "while i <= n:\n",
    "    j = 1\n",
    "    while j <= i:\n",
    "        # print jth column\n",
    "        print(i - j + 1, end = '')\n",
    "        j = j + 1\n",
    "    print()\n",
    "    i = i + 1"
   ]
  },
  {
   "cell_type": "markdown",
   "id": "0c446a38",
   "metadata": {},
   "source": [
    "### Character Pattern"
   ]
  },
  {
   "cell_type": "code",
   "execution_count": null,
   "id": "c2f814a6",
   "metadata": {},
   "outputs": [],
   "source": [
    "#print kth character\n",
    "\n",
    "k = int(input())\n",
    "\n",
    "x = ord('A')                       # Gives ASCII value Of A.\n",
    "asciiTarget = x + k - 1            # Converts kth element of alphabet into ASCII\n",
    "targetChar = chr(asciiTarget)      #Converts target Alphabet from ASCII\n",
    "targetChar                         # prints traget Alphabet"
   ]
  },
  {
   "cell_type": "markdown",
   "id": "f8d642fb",
   "metadata": {},
   "source": [
    "ABCD\n",
    "ABCD\n",
    "ABCD\n",
    "ABCD"
   ]
  },
  {
   "cell_type": "code",
   "execution_count": null,
   "id": "63dbe186",
   "metadata": {},
   "outputs": [],
   "source": [
    "n = int(input())\n",
    "i = 1\n",
    "while i <= n:\n",
    "    j = 1\n",
    "    while j <= n:\n",
    "        charP = chr(ord('A') + j - 1)\n",
    "        print(charP, end = '')\n",
    "        j = j + 1\n",
    "    print()\n",
    "    i = i + 1"
   ]
  },
  {
   "cell_type": "markdown",
   "id": "cc759f62",
   "metadata": {},
   "source": [
    "ABCD\n",
    "BCDE\n",
    "CDEF\n",
    "DEFG"
   ]
  },
  {
   "cell_type": "code",
   "execution_count": null,
   "id": "89b943b5",
   "metadata": {},
   "outputs": [],
   "source": [
    "n = int(input())\n",
    "i = 1\n",
    "while i <= n:\n",
    "    j = 1\n",
    "    start_chr = chr(ord('A') + i - 1)\n",
    "    while j <= n:\n",
    "        charP = chr(ord(start_chr) + j - 1)\n",
    "        print(charP, end = '')\n",
    "        j = j + 1\n",
    "    print()\n",
    "    i = i + 1"
   ]
  },
  {
   "cell_type": "markdown",
   "id": "f4c01c34",
   "metadata": {},
   "source": [
    "Print the following pattern for the given N number of rows.\n",
    "\n",
    "Pattern for N = 4\n",
    "A\n",
    "BC\n",
    "CDE\n",
    "DEFG"
   ]
  },
  {
   "cell_type": "code",
   "execution_count": null,
   "id": "d32146c8",
   "metadata": {},
   "outputs": [],
   "source": [
    "n = int(input())\n",
    "i = 1\n",
    "while i <= n:\n",
    "    j = 1\n",
    "    start_chr = chr(ord('A') + i - 1)\n",
    "    while j <= i:\n",
    "        charP = chr(ord(start_chr) + j - 1)\n",
    "        print(charP, end = '')\n",
    "        j = j + 1\n",
    "    print()\n",
    "    i = i + 1"
   ]
  },
  {
   "cell_type": "markdown",
   "id": "480a4a15",
   "metadata": {},
   "source": [
    "Problem statement\n",
    "Print the following pattern for the given number of rows.\n",
    "\n",
    "Pattern for N = 5\n",
    "E\n",
    "DE\n",
    "CDE\n",
    "BCDE\n",
    "ABCDE"
   ]
  },
  {
   "cell_type": "code",
   "execution_count": null,
   "id": "47165655",
   "metadata": {},
   "outputs": [],
   "source": [
    "n = int(input())\n",
    "i = 1\n",
    "while i <= n:\n",
    "    j = 1\n",
    "    start_chr = chr(ord('A') + n - i)\n",
    "    while j <= i:\n",
    "        charP = chr(ord(start_chr) + j - 1)\n",
    "        print(charP, end = '')\n",
    "        j = j + 1\n",
    "    print()\n",
    "    i = i + 1"
   ]
  },
  {
   "cell_type": "markdown",
   "id": "c2998f20",
   "metadata": {},
   "source": [
    "Print the following pattern for the given N number of rows.\n",
    "\n",
    "Pattern for N = 4\n",
    "1\n",
    "11\n",
    "111\n",
    "1111"
   ]
  },
  {
   "cell_type": "code",
   "execution_count": null,
   "id": "07a75777",
   "metadata": {},
   "outputs": [],
   "source": [
    "n = int(input())\n",
    "i = 1\n",
    "while i <= n:\n",
    "    j = 1\n",
    "    while j <= i:\n",
    "        print('1', end='')\n",
    "        j = j + 1\n",
    "    print()\n",
    "    i = i + 1"
   ]
  },
  {
   "cell_type": "markdown",
   "id": "52d73ab7",
   "metadata": {},
   "source": [
    "Print the following pattern for the given N number of rows.\n",
    "\n",
    "Pattern for N = 4\n",
    "1\n",
    "11\n",
    "202\n",
    "3003"
   ]
  },
  {
   "cell_type": "code",
   "execution_count": null,
   "id": "d76fabca",
   "metadata": {},
   "outputs": [],
   "source": [
    "n=int(input())\n",
    "print(1)\n",
    "i=1\n",
    "while(i<n):\n",
    "    j=0\n",
    "    while(j<i+1):\n",
    "        if(j==0 or j==i):\n",
    "            print(i,end=\"\")\n",
    "        else:\n",
    "            print(0,end=\"\")\n",
    "        j=j+1\n",
    "    i=i+1\n",
    "    print()"
   ]
  },
  {
   "cell_type": "markdown",
   "id": "4ff1bfd4",
   "metadata": {},
   "source": [
    "Print the following pattern for the given N number of rows.\n",
    "\n",
    "Pattern for N = 4\n",
    "1\n",
    "11\n",
    "121\n",
    "1221"
   ]
  },
  {
   "cell_type": "code",
   "execution_count": null,
   "id": "ff9cf3cd",
   "metadata": {},
   "outputs": [],
   "source": [
    "n=int(input())\n",
    "i = 0 \n",
    "while i < n:\n",
    "    j = 0\n",
    "    while j < i + 1:\n",
    "        if j == 0 or j == i:\n",
    "            print('1', end='')\n",
    "        else: \n",
    "            print('2', end='')\n",
    "        j = j +1\n",
    "    i = i + 1\n",
    "    print()"
   ]
  },
  {
   "cell_type": "markdown",
   "id": "c1408e8c",
   "metadata": {},
   "source": [
    "Problem statement\n",
    "Print the following pattern for the given N number of rows.\n",
    "\n",
    "Pattern for N = 4\n",
    "1234\n",
    "123\n",
    "12\n",
    "1"
   ]
  },
  {
   "cell_type": "code",
   "execution_count": null,
   "id": "60f38c4a",
   "metadata": {},
   "outputs": [],
   "source": [
    "n = int(input())\n",
    "i = 0\n",
    "while( i< n):\n",
    "    j=1\n",
    "    while ( j < n - i + 1):\n",
    "        print(j,  end='')\n",
    "        j = j + 1\n",
    "    i = i + 1\n",
    "    print()"
   ]
  },
  {
   "cell_type": "markdown",
   "id": "47d04734",
   "metadata": {},
   "source": [
    "Problem statement\n",
    "Print the following pattern for the given N number of rows.\n",
    "\n",
    "Pattern for N = 3\n",
    " A\n",
    " BB\n",
    " CCC\n"
   ]
  },
  {
   "cell_type": "code",
   "execution_count": 5,
   "id": "d449effa",
   "metadata": {
    "scrolled": true
   },
   "outputs": [
    {
     "name": "stdout",
     "output_type": "stream",
     "text": [
      "5\n",
      "A\n",
      "BB\n",
      "CCC\n",
      "DDDD\n",
      "EEEEE\n"
     ]
    }
   ],
   "source": [
    "n = int(input())\n",
    "\n",
    "currRow = 1\n",
    "while currRow <= n:\n",
    "    currCol = 1\n",
    "    ch = ord('A') + currRow - 1\n",
    "    while currCol <= currRow:\n",
    "        print(chr(ch), end='')\n",
    "        currCol = currCol + 1\n",
    "    print()\n",
    "    currRow = currRow + 1"
   ]
  },
  {
   "cell_type": "raw",
   "id": "dd0d70d0",
   "metadata": {},
   "source": [
    "****\n",
    "***\n",
    "**\n",
    "*"
   ]
  },
  {
   "cell_type": "code",
   "execution_count": 6,
   "id": "c5191972",
   "metadata": {
    "scrolled": false
   },
   "outputs": [
    {
     "name": "stdout",
     "output_type": "stream",
     "text": [
      "5\n",
      "*****\n",
      "****\n",
      "***\n",
      "**\n",
      "*\n",
      "\n"
     ]
    }
   ],
   "source": [
    "n = int(input())\n",
    "\n",
    "i = 0\n",
    "while i <= n:\n",
    "    j = 0\n",
    "    while j <= n - i - 1:\n",
    "        print('*', end='')\n",
    "        j = j + 1\n",
    "    print()\n",
    "    i = i + 1"
   ]
  },
  {
   "cell_type": "markdown",
   "id": "c9878f63",
   "metadata": {},
   "source": [
    "Print the following pattern for the given N number of rows.\n",
    "\n",
    "Pattern for N = 4\n",
    "4444\n",
    "333\n",
    "22\n",
    "1"
   ]
  },
  {
   "cell_type": "code",
   "execution_count": null,
   "id": "4a37dfdc",
   "metadata": {},
   "outputs": [],
   "source": [
    "n = int(input())\n",
    "temp = n\n",
    "i = 0\n",
    "while i <= n:\n",
    "    j = 0\n",
    "    while j <= n - i - 1:\n",
    "        print(temp, end='')\n",
    "        j = j + 1\n",
    "    print()\n",
    "    temp = temp - 1\n",
    "    i = i + 1"
   ]
  },
  {
   "cell_type": "raw",
   "id": "acdb2699",
   "metadata": {},
   "source": [
    "    *\n",
    "   **\n",
    "  ***\n",
    " ****   "
   ]
  },
  {
   "cell_type": "code",
   "execution_count": null,
   "id": "0e93291f",
   "metadata": {},
   "outputs": [],
   "source": [
    "n = int(input())\n",
    "\n",
    "i = 0\n",
    "while i <= n:\n",
    "    space = 1\n",
    "    while space <= n - i:\n",
    "        print(' ', end='')\n",
    "        space = space + 1\n",
    "    star = 1\n",
    "    while star <= i:\n",
    "        print('*', end='')\n",
    "        star = star + 1\n",
    "    i = i + 1\n",
    "    print()"
   ]
  },
  {
   "cell_type": "markdown",
   "id": "5bdaf2dc",
   "metadata": {},
   "source": [
    "Print the following pattern for the given N number of rows.\n",
    "\n",
    "Pattern for N = 4\n",
    "    1\n",
    "   12\n",
    "  123\n",
    " 1234"
   ]
  },
  {
   "cell_type": "code",
   "execution_count": null,
   "id": "55e423dc",
   "metadata": {},
   "outputs": [],
   "source": [
    "n = int(input())\n",
    "\n",
    "i = 0\n",
    "while i <= n:\n",
    "    space = 1\n",
    "    while space <= n - i:\n",
    "        print(' ', end='')\n",
    "        space = space + 1\n",
    "    num = 1\n",
    "    p = 1\n",
    "    while num <= i:\n",
    "        print(p, end='')\n",
    "        num = num + 1\n",
    "        p = p + 1\n",
    "    i = i + 1\n",
    "    print()"
   ]
  },
  {
   "cell_type": "raw",
   "id": "d3793df5",
   "metadata": {},
   "source": [
    "       1\n",
    "      121\n",
    "     12321\n",
    "    1234321"
   ]
  },
  {
   "cell_type": "code",
   "execution_count": null,
   "id": "c95200b5",
   "metadata": {},
   "outputs": [],
   "source": [
    "n = int(input())\n",
    "\n",
    "i = 0\n",
    "while i <= n:\n",
    "    space = 1\n",
    "    #spaces\n",
    "    while space <= n - i:\n",
    "        print(' ', end='')\n",
    "        space = space + 1\n",
    "    num = 1\n",
    "    p = 1\n",
    "    #increasing seq\n",
    "    while num <= i:\n",
    "        print(p, end='')\n",
    "        num = num + 1\n",
    "        p = p + 1\n",
    "    #decreasing seq\n",
    "    p = i - 1\n",
    "    while p >= 1:\n",
    "        print(p, end='')\n",
    "        p = p - 1\n",
    "    i = i + 1\n",
    "    print()"
   ]
  },
  {
   "cell_type": "raw",
   "id": "0bd4c752",
   "metadata": {},
   "source": [
    "Print the following pattern\n",
    "\n",
    "Pattern for N = 4\n",
    "\n",
    "    *\n",
    "   ***\n",
    "  *****\n",
    " ******* "
   ]
  },
  {
   "cell_type": "code",
   "execution_count": null,
   "id": "22a7d03c",
   "metadata": {},
   "outputs": [],
   "source": [
    "n = int(input())\n",
    "\n",
    "i = 0\n",
    "while i <= n:\n",
    "    space = 1\n",
    "    #spaces\n",
    "    while space <= n - i:\n",
    "        print(' ', end='')\n",
    "        space = space + 1\n",
    "    num = 1\n",
    "    p = 1\n",
    "    #increasing seq\n",
    "    while num <= i:\n",
    "        print('*', end='')\n",
    "        num = num + 1\n",
    "        p = p + 1\n",
    "    #decreasing seq\n",
    "    p = i - 1\n",
    "    while p >= 1:\n",
    "        print('*', end='')\n",
    "        p = p - 1\n",
    "    i = i + 1\n",
    "    print()"
   ]
  },
  {
   "cell_type": "raw",
   "id": "40baec76",
   "metadata": {},
   "source": [
    "Print the following pattern for the given number of rows.\n",
    "\n",
    "Pattern for N = 4\n",
    "\n",
    "   1\n",
    "  232\n",
    " 34543\n",
    "4567654\n"
   ]
  },
  {
   "cell_type": "code",
   "execution_count": null,
   "id": "d901b49b",
   "metadata": {
    "scrolled": true
   },
   "outputs": [],
   "source": [
    "n = int(input())\n",
    "\n",
    "i = 0\n",
    "while i <= n:\n",
    "    space = 1\n",
    "    #spaces\n",
    "    while space <= n - i:\n",
    "        print(' ', end='')\n",
    "        space = space + 1\n",
    "    num = 1\n",
    "    p = i\n",
    "    #increasing seq\n",
    "    while num <= i:\n",
    "        print(p, end='')\n",
    "        num = num + 1\n",
    "        p = p + 1\n",
    "    #decreasing seq\n",
    "    p = 2*i - 2\n",
    "    while p >= i:\n",
    "        print(p, end='')\n",
    "        p = p - 1\n",
    "    i = i + 1\n",
    "    print()"
   ]
  },
  {
   "cell_type": "raw",
   "id": "1393328b",
   "metadata": {},
   "source": [
    "Print the following pattern for the given number of rows.\n",
    "\n",
    "Note: N is always odd.\n",
    " \n",
    "  *\n",
    " ***\n",
    "*****\n",
    " ***\n",
    "  *"
   ]
  },
  {
   "cell_type": "code",
   "execution_count": null,
   "id": "628c518e",
   "metadata": {},
   "outputs": [],
   "source": [
    "n = int(input())\n",
    "firstHalf = (n + 1) // 2\n",
    "secondHalf = n // 2\n",
    "#First Half\n",
    "i = 1 \n",
    "while i <= firstHalf:\n",
    "    spaces = 1 \n",
    "    while spaces <= (firstHalf - i) :\n",
    "        print(\" \", end = \"\")\n",
    "        spaces = spaces + 1\n",
    "    j = 1\n",
    "    while j <= (2 * i) - 1 :\n",
    "        print(\"*\", end = \"\")\n",
    "        j = j + 1\n",
    "        \n",
    "    print()\n",
    "    i = i + 1\n",
    "#Second Half \n",
    "i = secondHalf \n",
    "while i >= 1 :\n",
    "    spaces = 1\n",
    "    while spaces <= (secondHalf - i + 1) :\n",
    "        print(\" \", end = \"\") \n",
    "        spaces = spaces + 1\n",
    "    j = 1 \n",
    "    while j <= (2 * i) - 1 :\n",
    "        print(\"*\", end = \"\") \n",
    "        j = j + 1\n",
    "    \n",
    "    print()\n",
    "    i = i - 1"
   ]
  },
  {
   "cell_type": "raw",
   "id": "9ec9ab2a",
   "metadata": {},
   "source": [
    "Print the following pattern for n number of rows.\n",
    "\n",
    "Note: each line consist of equal number of characters + spaces. Suppose you are printing xth line for N=n. You need to print 1..x followed by (n-x) spaces, again (n-x) spaces followed by x..1\n",
    "\n",
    "5\n",
    "1        1\n",
    "12      21\n",
    "123    321\n",
    "1234  4321\n",
    "1234554321"
   ]
  },
  {
   "cell_type": "code",
   "execution_count": null,
   "id": "777c9615",
   "metadata": {},
   "outputs": [],
   "source": [
    "n = int(input())\n",
    "totalspace = n * 2 - 2\n",
    "row = 1\n",
    "while row <= n:\n",
    "    column = 1\n",
    "    while column <= row:\n",
    "        print(column, end='')\n",
    "        column = column + 1\n",
    "    \n",
    "    space = 1\n",
    "    while space <= totalspace:\n",
    "        print(\" \", end='')\n",
    "        space = space + 1\n",
    "    \n",
    "    totalspace = totalspace - 2\n",
    "\n",
    "    column = row\n",
    "    while column > 0:\n",
    "        print(column, end='')\n",
    "        column = column - 1\n",
    "\n",
    "    row = row + 1\n",
    "    print()"
   ]
  },
  {
   "cell_type": "raw",
   "id": "2d6d65ea",
   "metadata": {},
   "source": [
    "Print the following pattern\n",
    "\n",
    "Pattern for N = 4\n",
    "\n",
    "*000*000*\n",
    "0*00*00*0\n",
    "00*0*0*00\n",
    "000***000"
   ]
  },
  {
   "cell_type": "code",
   "execution_count": null,
   "id": "46537e4e",
   "metadata": {},
   "outputs": [],
   "source": [
    "n = int(input())\n",
    "\n",
    "start = 1\n",
    "end = 2 * n + 1\n",
    "mid = n + 1\n",
    "row = 1\n",
    "while row <= n:\n",
    "    column = 1 \n",
    "    while column <= 2 * n + 1:\n",
    "        if(column == start or column == end or column == mid):\n",
    "            print(\"*\", end='')\n",
    "        else:\n",
    "            print(\"0\", end='')\n",
    "        column = column + 1\n",
    "    start = start + 1\n",
    "    end = end - 1\n",
    "    row = row + 1\n",
    "    print()"
   ]
  },
  {
   "cell_type": "raw",
   "id": "3eef6101",
   "metadata": {},
   "source": [
    "Print the following pattern for the given number of rows.\n",
    "\n",
    "Pattern for N = 4\n",
    "   1\n",
    "  212\n",
    " 32123\n",
    "4321234"
   ]
  },
  {
   "cell_type": "code",
   "execution_count": null,
   "id": "e6c55938",
   "metadata": {
    "scrolled": true
   },
   "outputs": [],
   "source": [
    "n = int(input())\n",
    "\n",
    "row = 1\n",
    "while row <= n:\n",
    "    space = n - row\n",
    "    while space > 0:\n",
    "        print(\" \", end='')\n",
    "        space = space - 1\n",
    "    value = row\n",
    "    while value > 0:\n",
    "        print(value, end='')\n",
    "        value = value - 1\n",
    "    value = value + 2\n",
    "    \n",
    "    while value <= row:\n",
    "        print(value, end=\"\")\n",
    "        value = value + 1\n",
    "    print()\n",
    "    row = row + 1"
   ]
  },
  {
   "cell_type": "raw",
   "id": "10463a8d",
   "metadata": {},
   "source": [
    "Problem statement\n",
    "Print the following pattern for the given number of rows.\n",
    "\n",
    "Assume N is always odd.\n",
    "\n",
    "Note : There is space after every star. Pattern for N = 7\n",
    "*\n",
    " * *\n",
    "   * * *\n",
    "     * * * *\n",
    "   * * *\n",
    " * *\n",
    "*"
   ]
  },
  {
   "cell_type": "code",
   "execution_count": null,
   "id": "422c3b4a",
   "metadata": {},
   "outputs": [],
   "source": [
    "n = int(input())\n",
    "\n",
    "increasing = (n + 1) // 2\n",
    "decreasing = n - increasing\n",
    "\n",
    "i = 1\n",
    "while i <= increasing:\n",
    "    #printing space 1st row has 0 space, 2nd row has 1 and so ith will have i - 1 space\n",
    "    s = 1\n",
    "    while s <= i - 1:\n",
    "        print(\" \", end=\"\")\n",
    "        s = s  + 1\n",
    "\n",
    "        #printing stars 1st row has 1 star, 2nd row has 2 so ith row will have i stars \n",
    "    j = 1\n",
    "    while j <= i:\n",
    "        print(\"* \", end=\"\")\n",
    "        j = j + 1\n",
    "    print()\n",
    "    i = i + 1\n",
    "\n",
    "i = 1\n",
    "while i <= decreasing:\n",
    "    # printing spaces 1st row has 2 spaces, 2nd row has 1 so ith will have decreasing - i space\n",
    "    s = 1\n",
    "    while s <= decreasing - i:\n",
    "        print(\" \", end=\"\")\n",
    "        s = s + 1\n",
    "\n",
    "    #printing stars 1st row has 3 stars, 2nd row has 2 so ith will have decreasing - i + 1 stars\n",
    "    j = 1 \n",
    "    while j <= decreasing -i + 1:\n",
    "        print(\"* \", end=\"\")\n",
    "        j = j + 1\n",
    "    print()\n",
    "    i = i + 1"
   ]
  }
 ],
 "metadata": {
  "kernelspec": {
   "display_name": "Python 3 (ipykernel)",
   "language": "python",
   "name": "python3"
  },
  "language_info": {
   "codemirror_mode": {
    "name": "ipython",
    "version": 3
   },
   "file_extension": ".py",
   "mimetype": "text/x-python",
   "name": "python",
   "nbconvert_exporter": "python",
   "pygments_lexer": "ipython3",
   "version": "3.11.4"
  }
 },
 "nbformat": 4,
 "nbformat_minor": 5
}
