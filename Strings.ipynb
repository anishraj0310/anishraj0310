{
 "cells": [
  {
   "cell_type": "code",
   "execution_count": 1,
   "id": "12f35edc",
   "metadata": {},
   "outputs": [],
   "source": [
    "s = \"Raj\""
   ]
  },
  {
   "cell_type": "code",
   "execution_count": 2,
   "id": "68c337e9",
   "metadata": {},
   "outputs": [
    {
     "name": "stdout",
     "output_type": "stream",
     "text": [
      "Raj\n"
     ]
    }
   ],
   "source": [
    "print(s)"
   ]
  },
  {
   "cell_type": "code",
   "execution_count": 3,
   "id": "8514815d",
   "metadata": {},
   "outputs": [],
   "source": [
    "s = 'Raj'"
   ]
  },
  {
   "cell_type": "code",
   "execution_count": 4,
   "id": "5ffb9a12",
   "metadata": {},
   "outputs": [
    {
     "name": "stdout",
     "output_type": "stream",
     "text": [
      "Raj\n"
     ]
    }
   ],
   "source": [
    "print(s)"
   ]
  },
  {
   "cell_type": "code",
   "execution_count": 5,
   "id": "93f0773d",
   "metadata": {},
   "outputs": [],
   "source": [
    "s = '''Raj'''"
   ]
  },
  {
   "cell_type": "code",
   "execution_count": 6,
   "id": "74004d28",
   "metadata": {},
   "outputs": [
    {
     "name": "stdout",
     "output_type": "stream",
     "text": [
      "Raj\n"
     ]
    }
   ],
   "source": [
    "print(s)"
   ]
  },
  {
   "cell_type": "code",
   "execution_count": 7,
   "id": "6ef0eb50",
   "metadata": {},
   "outputs": [],
   "source": [
    "s = '''My name is\n",
    "Raj'''"
   ]
  },
  {
   "cell_type": "code",
   "execution_count": 8,
   "id": "defb7e22",
   "metadata": {},
   "outputs": [
    {
     "name": "stdout",
     "output_type": "stream",
     "text": [
      "My name is\n",
      "Raj\n"
     ]
    }
   ],
   "source": [
    "print(s)"
   ]
  },
  {
   "cell_type": "code",
   "execution_count": 11,
   "id": "86ddc081",
   "metadata": {},
   "outputs": [
    {
     "name": "stdout",
     "output_type": "stream",
     "text": [
      "R\n",
      "j\n"
     ]
    }
   ],
   "source": [
    "s = \"Raj\"\n",
    "\n",
    "print(s[0])\n",
    "print(s[-1])"
   ]
  },
  {
   "cell_type": "code",
   "execution_count": 13,
   "id": "13e086ea",
   "metadata": {},
   "outputs": [],
   "source": [
    "s = \"Anish\""
   ]
  },
  {
   "cell_type": "code",
   "execution_count": 14,
   "id": "f75868cc",
   "metadata": {},
   "outputs": [
    {
     "data": {
      "text/plain": [
       "1926986558576"
      ]
     },
     "execution_count": 14,
     "metadata": {},
     "output_type": "execute_result"
    }
   ],
   "source": [
    "id(s)"
   ]
  },
  {
   "cell_type": "markdown",
   "id": "2dd74a20",
   "metadata": {},
   "source": [
    "Strings are immutable i.e cann't make changes after init."
   ]
  },
  {
   "cell_type": "markdown",
   "id": "43a5c88c",
   "metadata": {},
   "source": [
    "### Concatetion of 2 Strings"
   ]
  },
  {
   "cell_type": "code",
   "execution_count": 15,
   "id": "fb0be88f",
   "metadata": {},
   "outputs": [],
   "source": [
    "a = \"Red\""
   ]
  },
  {
   "cell_type": "code",
   "execution_count": 16,
   "id": "6e6edfed",
   "metadata": {},
   "outputs": [
    {
     "data": {
      "text/plain": [
       "'Red'"
      ]
     },
     "execution_count": 16,
     "metadata": {},
     "output_type": "execute_result"
    }
   ],
   "source": [
    "a"
   ]
  },
  {
   "cell_type": "code",
   "execution_count": 17,
   "id": "77ab7189",
   "metadata": {},
   "outputs": [],
   "source": [
    "a = a + \"Blue\""
   ]
  },
  {
   "cell_type": "code",
   "execution_count": 18,
   "id": "0671f5f2",
   "metadata": {
    "scrolled": true
   },
   "outputs": [
    {
     "data": {
      "text/plain": [
       "'RedBlue'"
      ]
     },
     "execution_count": 18,
     "metadata": {},
     "output_type": "execute_result"
    }
   ],
   "source": [
    "a"
   ]
  },
  {
   "cell_type": "code",
   "execution_count": 22,
   "id": "882e52c1",
   "metadata": {},
   "outputs": [
    {
     "data": {
      "text/plain": [
       "1926986001392"
      ]
     },
     "execution_count": 22,
     "metadata": {},
     "output_type": "execute_result"
    }
   ],
   "source": [
    "id(a)"
   ]
  },
  {
   "cell_type": "code",
   "execution_count": 19,
   "id": "8dd09661",
   "metadata": {},
   "outputs": [],
   "source": [
    "a = a + \"Yello\" + \"Green\""
   ]
  },
  {
   "cell_type": "code",
   "execution_count": 20,
   "id": "27c06205",
   "metadata": {},
   "outputs": [
    {
     "data": {
      "text/plain": [
       "'RedBlueYelloGreen'"
      ]
     },
     "execution_count": 20,
     "metadata": {},
     "output_type": "execute_result"
    }
   ],
   "source": [
    "a"
   ]
  },
  {
   "cell_type": "code",
   "execution_count": 21,
   "id": "69be365d",
   "metadata": {},
   "outputs": [
    {
     "data": {
      "text/plain": [
       "1926986001392"
      ]
     },
     "execution_count": 21,
     "metadata": {},
     "output_type": "execute_result"
    }
   ],
   "source": [
    "id(a)"
   ]
  },
  {
   "cell_type": "code",
   "execution_count": 23,
   "id": "03b83697",
   "metadata": {},
   "outputs": [],
   "source": [
    "a = a*3"
   ]
  },
  {
   "cell_type": "code",
   "execution_count": 24,
   "id": "a54dfe72",
   "metadata": {},
   "outputs": [
    {
     "data": {
      "text/plain": [
       "'RedBlueYelloGreenRedBlueYelloGreenRedBlueYelloGreen'"
      ]
     },
     "execution_count": 24,
     "metadata": {},
     "output_type": "execute_result"
    }
   ],
   "source": [
    "a"
   ]
  },
  {
   "cell_type": "code",
   "execution_count": 25,
   "id": "548926a8",
   "metadata": {},
   "outputs": [
    {
     "data": {
      "text/plain": [
       "1926985602464"
      ]
     },
     "execution_count": 25,
     "metadata": {},
     "output_type": "execute_result"
    }
   ],
   "source": [
    "id(a)"
   ]
  },
  {
   "cell_type": "code",
   "execution_count": 27,
   "id": "322182ac",
   "metadata": {},
   "outputs": [
    {
     "data": {
      "text/plain": [
       "'RedBlueYelloGreenRedBlueYelloGreenRedBlueYelloGreenred3'"
      ]
     },
     "execution_count": 27,
     "metadata": {},
     "output_type": "execute_result"
    }
   ],
   "source": [
    "a = a + \"red\" + str(3)\n",
    "a"
   ]
  },
  {
   "cell_type": "code",
   "execution_count": 30,
   "id": "d85d8ff5",
   "metadata": {},
   "outputs": [
    {
     "name": "stdout",
     "output_type": "stream",
     "text": [
      "abcd\n"
     ]
    }
   ],
   "source": [
    "s = \"abcd\"\n",
    "b = s + \"ef\"\n",
    "print(s)"
   ]
  },
  {
   "cell_type": "markdown",
   "id": "e991a08b",
   "metadata": {},
   "source": [
    "### Slicing Of String"
   ]
  },
  {
   "cell_type": "code",
   "execution_count": 31,
   "id": "e94d24a1",
   "metadata": {},
   "outputs": [],
   "source": [
    "s = \"AnishRaj\""
   ]
  },
  {
   "cell_type": "code",
   "execution_count": 32,
   "id": "cac03ad5",
   "metadata": {},
   "outputs": [
    {
     "data": {
      "text/plain": [
       "'nis'"
      ]
     },
     "execution_count": 32,
     "metadata": {},
     "output_type": "execute_result"
    }
   ],
   "source": [
    "s[1:4]"
   ]
  },
  {
   "cell_type": "code",
   "execution_count": 33,
   "id": "c13580cb",
   "metadata": {},
   "outputs": [
    {
     "data": {
      "text/plain": [
       "'ns'"
      ]
     },
     "execution_count": 33,
     "metadata": {},
     "output_type": "execute_result"
    }
   ],
   "source": [
    "s[1:4:2]"
   ]
  },
  {
   "cell_type": "code",
   "execution_count": 34,
   "id": "68650c22",
   "metadata": {},
   "outputs": [
    {
     "data": {
      "text/plain": [
       "'j'"
      ]
     },
     "execution_count": 34,
     "metadata": {},
     "output_type": "execute_result"
    }
   ],
   "source": [
    "s[-1]"
   ]
  },
  {
   "cell_type": "code",
   "execution_count": 35,
   "id": "c92c4212",
   "metadata": {},
   "outputs": [
    {
     "data": {
      "text/plain": [
       "'sh'"
      ]
     },
     "execution_count": 35,
     "metadata": {},
     "output_type": "execute_result"
    }
   ],
   "source": [
    "s[-5:-3]"
   ]
  },
  {
   "cell_type": "code",
   "execution_count": 36,
   "id": "25e50d9d",
   "metadata": {},
   "outputs": [
    {
     "data": {
      "text/plain": [
       "'Anis'"
      ]
     },
     "execution_count": 36,
     "metadata": {},
     "output_type": "execute_result"
    }
   ],
   "source": [
    "s[:4]"
   ]
  },
  {
   "cell_type": "code",
   "execution_count": 37,
   "id": "687ed5ae",
   "metadata": {},
   "outputs": [
    {
     "data": {
      "text/plain": [
       "'nishRaj'"
      ]
     },
     "execution_count": 37,
     "metadata": {},
     "output_type": "execute_result"
    }
   ],
   "source": [
    "s[1:10]"
   ]
  },
  {
   "cell_type": "code",
   "execution_count": 38,
   "id": "2640280f",
   "metadata": {},
   "outputs": [
    {
     "data": {
      "text/plain": [
       "'hsi'"
      ]
     },
     "execution_count": 38,
     "metadata": {},
     "output_type": "execute_result"
    }
   ],
   "source": [
    "s[4:1:-1]"
   ]
  },
  {
   "cell_type": "code",
   "execution_count": 39,
   "id": "a5faf0f2",
   "metadata": {},
   "outputs": [
    {
     "data": {
      "text/plain": [
       "'AnishRaj'"
      ]
     },
     "execution_count": 39,
     "metadata": {},
     "output_type": "execute_result"
    }
   ],
   "source": [
    "s"
   ]
  },
  {
   "cell_type": "code",
   "execution_count": 40,
   "id": "a6ceab11",
   "metadata": {},
   "outputs": [
    {
     "data": {
      "text/plain": [
       "'RhsinA'"
      ]
     },
     "execution_count": 40,
     "metadata": {},
     "output_type": "execute_result"
    }
   ],
   "source": [
    "s[5::-1]"
   ]
  },
  {
   "cell_type": "markdown",
   "id": "fdcf1b68",
   "metadata": {},
   "source": [
    "### Iterarating on String"
   ]
  },
  {
   "cell_type": "code",
   "execution_count": 41,
   "id": "a8507595",
   "metadata": {},
   "outputs": [],
   "source": [
    "str = \"Hello World\""
   ]
  },
  {
   "cell_type": "code",
   "execution_count": 42,
   "id": "f354b00d",
   "metadata": {},
   "outputs": [
    {
     "name": "stdout",
     "output_type": "stream",
     "text": [
      "3\n"
     ]
    }
   ],
   "source": [
    "count = 0\n",
    "for letter in str:\n",
    "    if letter == 'l':\n",
    "        count += 1\n",
    "print(count)"
   ]
  },
  {
   "cell_type": "code",
   "execution_count": 43,
   "id": "5c5bb2f7",
   "metadata": {},
   "outputs": [
    {
     "name": "stdout",
     "output_type": "stream",
     "text": [
      "3\n"
     ]
    }
   ],
   "source": [
    "count = 0\n",
    "for i in range(len(str)):\n",
    "    if str[i] == 'l':\n",
    "        count += 1\n",
    "print(count)"
   ]
  },
  {
   "cell_type": "code",
   "execution_count": 44,
   "id": "86c45039",
   "metadata": {},
   "outputs": [
    {
     "name": "stdout",
     "output_type": "stream",
     "text": [
      "True\n"
     ]
    }
   ],
   "source": [
    "a = \"abce\" >= \"abcdef\"\n",
    "print(a)"
   ]
  },
  {
   "cell_type": "markdown",
   "id": "7e9683b5",
   "metadata": {},
   "source": [
    "### Palindrome of String"
   ]
  },
  {
   "cell_type": "code",
   "execution_count": 45,
   "id": "dc6a9684",
   "metadata": {},
   "outputs": [
    {
     "name": "stdout",
     "output_type": "stream",
     "text": [
      "ana\n",
      "true\n"
     ]
    }
   ],
   "source": [
    "s=input()\n",
    "p=s[::-1]\n",
    "if(s==p):\n",
    "    print(\"true\")\n",
    "else:\n",
    "    print(\"false\")"
   ]
  },
  {
   "cell_type": "markdown",
   "id": "f5cd2ea2",
   "metadata": {},
   "source": [
    "### Count number of Vovel, Consonent, Special Character and digits"
   ]
  },
  {
   "cell_type": "code",
   "execution_count": 46,
   "id": "d500d362",
   "metadata": {},
   "outputs": [
    {
     "name": "stdout",
     "output_type": "stream",
     "text": [
      "9 14 10 3\n"
     ]
    }
   ],
   "source": [
    "def countInString(str):\n",
    "    v,c,d,s=0,0,0,0\n",
    "    for char in str:\n",
    "        if((char>='a' and char<='z')or (char>='A' and char<='Z')):\n",
    "            char=char.lower()\n",
    "            if(char=='a' or char=='e' or char=='i' or char=='o' or char=='u'):\n",
    "                v+=1\n",
    "            else:\n",
    "                c+=1\n",
    "        elif(char>='0' and char<='9'):\n",
    "            d+=1\n",
    "        else:\n",
    "            s+=1\n",
    "    return v,c,d,s\n",
    "\n",
    "str='sfsaAFsawurioq2412141dsafd!@ afsa421'\n",
    "type(str[0])\n",
    "v,c,d,s=countInString(str)\n",
    "print(v,c,d,s)"
   ]
  },
  {
   "cell_type": "markdown",
   "id": "dbdb444f",
   "metadata": {},
   "source": [
    "### Check permutation"
   ]
  },
  {
   "cell_type": "code",
   "execution_count": 57,
   "id": "acb70c11",
   "metadata": {},
   "outputs": [
    {
     "name": "stdout",
     "output_type": "stream",
     "text": [
      "listen\n",
      "silent\n",
      "True\n"
     ]
    }
   ],
   "source": [
    "def are_anagrams(string1, string2):\n",
    "    n1 = len(string1) \n",
    "    n2 = len(string2)\n",
    "    if (n1 != n2):\n",
    "        return False\n",
    "\n",
    "    a = sorted(string1)\n",
    "    string1 = \"\".join(a) \n",
    "    b = sorted(string2)\n",
    "    string2 = \"\".join(b)\n",
    "\n",
    "    for i in range(0, n1, 1):\n",
    "        if (string1[i] != string2[i]):\n",
    "            return False\n",
    "    \n",
    "    return True\n",
    "\n",
    "string1 = input()\n",
    "string2 = input()\n",
    "print(are_anagrams(string1, string2))\n"
   ]
  },
  {
   "cell_type": "markdown",
   "id": "752083ff",
   "metadata": {},
   "source": [
    "### Remove Conscevative Character"
   ]
  },
  {
   "cell_type": "code",
   "execution_count": 65,
   "id": "5e3fa31f",
   "metadata": {},
   "outputs": [
    {
     "name": "stdout",
     "output_type": "stream",
     "text": [
      "aaabbbcddddff\n",
      "abcdf\n"
     ]
    }
   ],
   "source": [
    "\n",
    "def removeConsecutiveDuplicates(string):\n",
    "    n = len(string)\n",
    "    \n",
    "    if n == 0:\n",
    "        return String\n",
    "    answer = \"\"\n",
    "    \n",
    "    startIndex = 0\n",
    "    while startIndex < n:\n",
    "        uniqueChar = String[startIndex]\n",
    "        nextUniqueCharIndex = startIndex + 1\n",
    "        \n",
    "        while(nextUniqueCharIndex < n) and (string[nextUniqueCharIndex] == uniqueChar):\n",
    "            nextUniqueCharIndex += 1\n",
    "            \n",
    "        answer += uniqueChar\n",
    "        startIndex = nextUniqueCharIndex\n",
    "        \n",
    "    return answer\n",
    "\n",
    "String = input()\n",
    "\n",
    "ans = removeConsecutiveDuplicates(String)\n",
    "\n",
    "print(ans)"
   ]
  },
  {
   "cell_type": "markdown",
   "id": "17fa17a5",
   "metadata": {},
   "source": [
    "### Reverse Each Word"
   ]
  },
  {
   "cell_type": "code",
   "execution_count": 66,
   "id": "af5127cc",
   "metadata": {},
   "outputs": [
    {
     "name": "stdout",
     "output_type": "stream",
     "text": [
      "My name is Anish Raj\n",
      "yM eman si hsinA jaR\n"
     ]
    }
   ],
   "source": [
    "from sys import stdin \n",
    "def reverseEachWord(input_str): \n",
    "    char_list = list(input_str) \n",
    "    ptr_a = 0\n",
    "    ptr_b = 0\n",
    "    i = 0 \n",
    "    length = len(char_list) \n",
    "    while True: \n",
    "        if i == length or char_list[i] == ' ':\n",
    "            ptr_b = i - 1 \n",
    "            while ptr_a < ptr_b:\n",
    "                char_list[ptr_a],  char_list[ptr_b] = char_list[ptr_b] ,  char_list[ptr_a]\n",
    "                ptr_a += 1\n",
    "                ptr_b -=1\n",
    "\n",
    "            ptr_a = i + 1\n",
    "            ptr_b = ptr_a\n",
    "        \n",
    "        if i == length:\n",
    "            break\n",
    "\n",
    "        i += 1\n",
    "    \n",
    "    return ''.join(char_list)\n",
    "\n",
    "\n",
    "#main\n",
    "\n",
    "string = input().strip()\n",
    "ans = reverseEachWord(string)\n",
    "print(ans)"
   ]
  },
  {
   "cell_type": "markdown",
   "id": "c98570ae",
   "metadata": {},
   "source": [
    "### Replace Character"
   ]
  },
  {
   "cell_type": "code",
   "execution_count": 74,
   "id": "f4c4b59c",
   "metadata": {},
   "outputs": [
    {
     "name": "stdout",
     "output_type": "stream",
     "text": [
      "cxoxdxixnxgxnxixnxjxaxsx\n",
      "x\n",
      "codingninjas\n"
     ]
    }
   ],
   "source": [
    "from sys import stdin\n",
    "def removeAllOccurrencesOfChar(string, ch) :\n",
    "    n = len(string)\n",
    "    \n",
    "    ans = \"\"\n",
    "    for i in range(n):\n",
    "        if string[i] != ch:\n",
    "            ans += string[i]\n",
    "            \n",
    "    return ans\n",
    "\n",
    "string = input()\n",
    "ch = input()\n",
    "\n",
    "ans = removeAllOccurrencesOfChar(string, ch)\n",
    "\n",
    "print(ans)"
   ]
  },
  {
   "cell_type": "markdown",
   "id": "1bdd6be5",
   "metadata": {},
   "source": [
    "### Highest Occuing Character"
   ]
  },
  {
   "cell_type": "code",
   "execution_count": 102,
   "id": "2be3a667",
   "metadata": {},
   "outputs": [
    {
     "name": "stdout",
     "output_type": "stream",
     "text": [
      "hvfjnkyfuhkhuhbghgjbuhhvgcdafncfagvhhjhvguhyf\n",
      "h\n"
     ]
    }
   ],
   "source": [
    "\n",
    "from sys import stdin\n",
    "\n",
    "\n",
    "def highestOccuringChar(string) :\n",
    "\t#Your code goes here\n",
    "    ASCII_SIZE = 256\n",
    "    ctr = [0] * ASCII_SIZE\n",
    "    max = -1\n",
    "    ans = ''\n",
    "    for i in string:\n",
    "        ctr[ord(i)]+=1;\n",
    " \n",
    "    for i in string:\n",
    "        if max < ctr[ord(i)]:\n",
    "            max = ctr[ord(i)]\n",
    "            ans = i\n",
    "    return ans\n",
    "\n",
    "\n",
    "\n",
    "\n",
    "#main\n",
    "string = input()\n",
    "ans = highestOccuringChar(string)\n",
    "\n",
    "print(ans)"
   ]
  },
  {
   "cell_type": "markdown",
   "id": "abaff097",
   "metadata": {},
   "source": [
    "### Compress the String"
   ]
  },
  {
   "cell_type": "markdown",
   "id": "284b9c5f",
   "metadata": {},
   "source": [
    "Problem statement\n",
    "Write a program to do basic string compression. For a character which is consecutively repeated more than once, replace consecutive duplicate occurrences with the count of repetitions.\n",
    "\n",
    "Example:\n",
    "If a string has 'x' repeated 5 times, replace this \"xxxxx\" with \"x5\".\n",
    "\n",
    "The string is compressed only when the repeated character count is more than 1.\n",
    "Note:\n",
    "Consecutive count of every character in the input string is less than or equal to 9. You are not required to print anything. It has already been taken care of. Just implement the given function and return the compressed string."
   ]
  },
  {
   "cell_type": "code",
   "execution_count": 119,
   "id": "3e3c7e92",
   "metadata": {},
   "outputs": [
    {
     "ename": "TypeError",
     "evalue": "'str' object is not callable",
     "output_type": "error",
     "traceback": [
      "\u001b[1;31m---------------------------------------------------------------------------\u001b[0m",
      "\u001b[1;31mTypeError\u001b[0m                                 Traceback (most recent call last)",
      "Cell \u001b[1;32mIn[119], line 37\u001b[0m\n\u001b[0;32m     32\u001b[0m     \u001b[38;5;28;01mreturn\u001b[39;00m compressedIndex\n\u001b[0;32m     36\u001b[0m \u001b[38;5;66;03m# Main.\u001b[39;00m\n\u001b[1;32m---> 37\u001b[0m string \u001b[38;5;241m=\u001b[39m \u001b[38;5;28minput\u001b[39m()\n\u001b[0;32m     38\u001b[0m ans \u001b[38;5;241m=\u001b[39m getCompressedString(string)\n\u001b[0;32m     39\u001b[0m \u001b[38;5;28mprint\u001b[39m(ans)\n",
      "\u001b[1;31mTypeError\u001b[0m: 'str' object is not callable"
     ]
    }
   ],
   "source": [
    "from sys import stdin,setrecursionlimit\n",
    "setrecursionlimit(10**7)\n",
    "\n",
    "\n",
    "def getCompressedString(string) :\n",
    "\t# Write your code here.\n",
    "    n =len(string)\n",
    "    if n == 0:\n",
    "        return \"\"\n",
    "    \n",
    "\n",
    "    startIndex = 0\n",
    "    endIndex = 0\n",
    "\n",
    "\n",
    "    compressedIndex = \"\"\n",
    "\n",
    "    while (startIndex < n):\n",
    "        while ((endIndex < n) and (input[endIndex] == string[startIndex])):\n",
    "            endIndex += 1\n",
    "\n",
    "        totalCharCount = endIndex - startIndex\n",
    "\n",
    "\n",
    "        if (totalCharCount != 1):\n",
    "            compressedIndex += (string[startIndex] + \"\" + string(totalCharCount))\n",
    "        else:\n",
    "            compressedIndex += string[startIndex]\n",
    "        \n",
    "        startIndex = endIndex\n",
    "\n",
    "    return compressedIndex\n",
    "\n",
    "\n",
    "\n",
    "# Main.\n",
    "string = input()\n",
    "ans = getCompressedString(string)\n",
    "print(ans)"
   ]
  }
 ],
 "metadata": {
  "kernelspec": {
   "display_name": "Python 3 (ipykernel)",
   "language": "python",
   "name": "python3"
  },
  "language_info": {
   "codemirror_mode": {
    "name": "ipython",
    "version": 3
   },
   "file_extension": ".py",
   "mimetype": "text/x-python",
   "name": "python",
   "nbconvert_exporter": "python",
   "pygments_lexer": "ipython3",
   "version": "3.11.4"
  }
 },
 "nbformat": 4,
 "nbformat_minor": 5
}
