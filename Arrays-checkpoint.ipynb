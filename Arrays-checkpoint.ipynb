{
 "cells": [
  {
   "cell_type": "code",
   "execution_count": 2,
   "id": "5ff31302",
   "metadata": {},
   "outputs": [
    {
     "name": "stdout",
     "output_type": "stream",
     "text": [
      "array('i', [2, 3, 4])\n",
      "array('i', [2, 3, 4, 10])\n"
     ]
    }
   ],
   "source": [
    "import array\n",
    "\n",
    "numbers = array.array('i', [2,3,4])\n",
    "print(numbers)\n",
    "\n",
    "numbers.append(10)     # Insert number at the end\n",
    "print(numbers)"
   ]
  },
  {
   "cell_type": "code",
   "execution_count": 8,
   "id": "f90909cc",
   "metadata": {},
   "outputs": [
    {
     "name": "stdout",
     "output_type": "stream",
     "text": [
      "First element: 2\n",
      "Second element: 3\n"
     ]
    }
   ],
   "source": [
    "import array\n",
    "\n",
    "numbers = array.array('i', [2,3,4])\n",
    "\n",
    "print(f\"First element: {numbers[0]}\")        # Access the elements according to their index.\n",
    "print(f\"Second element: {numbers[1]}\")"
   ]
  },
  {
   "cell_type": "code",
   "execution_count": 13,
   "id": "24d3eeab",
   "metadata": {},
   "outputs": [
    {
     "name": "stdout",
     "output_type": "stream",
     "text": [
      "array('i', [2, 3])\n"
     ]
    }
   ],
   "source": [
    "import array\n",
    "\n",
    "numbers = array.array('i', [2,3,4])\n",
    "\n",
    "numbers.append(10)  \n",
    "\n",
    "numbers.pop()     # it removes the last element from array\n",
    "numbers.pop()\n",
    "print(numbers)"
   ]
  },
  {
   "cell_type": "code",
   "execution_count": 14,
   "id": "a324043b",
   "metadata": {},
   "outputs": [
    {
     "name": "stdout",
     "output_type": "stream",
     "text": [
      "array('i', [2, 3, 10])\n"
     ]
    }
   ],
   "source": [
    "import array\n",
    "\n",
    "numbers = array.array('i', [2,3,4])\n",
    "\n",
    "numbers.append(10)  \n",
    "\n",
    "numbers.pop(2)     # it removes 2nd index element from array\n",
    "\n",
    "print(numbers)"
   ]
  },
  {
   "cell_type": "code",
   "execution_count": 15,
   "id": "e2d934b0",
   "metadata": {},
   "outputs": [
    {
     "name": "stdout",
     "output_type": "stream",
     "text": [
      "2\n",
      "3\n",
      "4\n",
      "10\n"
     ]
    }
   ],
   "source": [
    "import array\n",
    "\n",
    "numbers = array.array('i', [2,3,4])\n",
    "\n",
    "numbers.append(10)  \n",
    "\n",
    "for number in numbers:               # Iterating in array\n",
    "    print(number)"
   ]
  },
  {
   "cell_type": "markdown",
   "id": "980b98bb",
   "metadata": {},
   "source": [
    "### Sum of array"
   ]
  },
  {
   "cell_type": "code",
   "execution_count": 16,
   "id": "8d038e3c",
   "metadata": {},
   "outputs": [
    {
     "name": "stdout",
     "output_type": "stream",
     "text": [
      "19\n"
     ]
    }
   ],
   "source": [
    "import array\n",
    "\n",
    "numbers = array.array('i', [2,3,4])\n",
    "\n",
    "numbers.append(10)  \n",
    "\n",
    "total = 0\n",
    "for number in numbers:\n",
    "    total = total + number\n",
    "print(total)"
   ]
  }
 ],
 "metadata": {
  "kernelspec": {
   "display_name": "Python 3 (ipykernel)",
   "language": "python",
   "name": "python3"
  },
  "language_info": {
   "codemirror_mode": {
    "name": "ipython",
    "version": 3
   },
   "file_extension": ".py",
   "mimetype": "text/x-python",
   "name": "python",
   "nbconvert_exporter": "python",
   "pygments_lexer": "ipython3",
   "version": "3.11.4"
  }
 },
 "nbformat": 4,
 "nbformat_minor": 5
}
