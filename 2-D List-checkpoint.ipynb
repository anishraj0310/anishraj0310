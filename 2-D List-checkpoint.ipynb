{
 "cells": [
  {
   "cell_type": "code",
   "execution_count": 2,
   "metadata": {},
   "outputs": [
    {
     "name": "stdout",
     "output_type": "stream",
     "text": [
      "[[1, 2, 3], [4, 5, 6, 7, 8], [9], [10, 11, 12]]\n"
     ]
    }
   ],
   "source": [
    "matrix = [[1,2,3],[4,5,6,7,8],[9],[10,11,12]]\n",
    "print(matrix)"
   ]
  },
  {
   "cell_type": "code",
   "execution_count": 4,
   "id": "5a077d0e",
   "metadata": {},
   "outputs": [
    {
     "name": "stdout",
     "output_type": "stream",
     "text": [
      "[4, 16, 36]\n"
     ]
    }
   ],
   "source": [
    "#Transform(el) for el in another Array if condition\n",
    "\n",
    "numbers = [1,2,3,4,5,6,7]\n",
    "#Square of all even numbers\n",
    "\n",
    "square_of_even_numbers = [num * num for num in numbers if num % 2 ==0]\n",
    "print(square_of_even_numbers)"
   ]
  },
  {
   "cell_type": "code",
   "execution_count": 6,
   "id": "e3f6b8a0",
   "metadata": {},
   "outputs": [
    {
     "name": "stdout",
     "output_type": "stream",
     "text": [
      "[15, 20, 40]\n"
     ]
    }
   ],
   "source": [
    "numbers = [5,10,12,16,22,28,30]\n",
    "\n",
    "new_list = [num + 10 for num in numbers if num % 5 == 0]\n",
    "print(new_list)"
   ]
  },
  {
   "cell_type": "code",
   "execution_count": 9,
   "id": "598a8011",
   "metadata": {},
   "outputs": [
    {
     "name": "stdout",
     "output_type": "stream",
     "text": [
      "[[0, 1, 2, 3, 4, 5], [0, 1, 2, 3, 4, 5], [0, 1, 2, 3, 4, 5], [0, 1, 2, 3, 4, 5]]\n",
      "[[0, 1, 2, 3, 4, 5], [0, 1, 2, 3, 4, 5], [0, 1, 2, 3, 4, 5], [0, 1, 2, 3, 4, 5]]\n"
     ]
    }
   ],
   "source": [
    "n = 4\n",
    "m = 6\n",
    "row = [i for i in range(m)]\n",
    "matrix = [row for _ in range(n)]\n",
    "print(matrix)\n",
    "\n",
    "matrix = [[i for i in range(m)] for _  in range(n)]\n",
    "print(matrix)\n"
   ]
  },
  {
   "cell_type": "code",
   "execution_count": 11,
   "id": "71798701",
   "metadata": {},
   "outputs": [
    {
     "name": "stdout",
     "output_type": "stream",
     "text": [
      "[[0, 0], [0, 0, 0], [0, 0, 0, 0], [0], [0, 0]]\n"
     ]
    }
   ],
   "source": [
    "num_cols = [2,3,4,1,2]\n",
    "matrix = [[0 for _ in range(num_cols[i])] for i in range(len(num_cols))]\n",
    "print(matrix)"
   ]
  },
  {
   "cell_type": "markdown",
   "id": "724934dd",
   "metadata": {},
   "source": [
    "### Set Matrix to Zero"
   ]
  },
  {
   "cell_type": "code",
   "execution_count": 14,
   "id": "aacbdc5b",
   "metadata": {},
   "outputs": [
    {
     "data": {
      "text/plain": [
       "[[1, 2, 3], [2, 0, 0], [3, 4, 5]]"
      ]
     },
     "execution_count": 14,
     "metadata": {},
     "output_type": "execute_result"
    }
   ],
   "source": [
    "def set_matrix_to_zeros(matrix):\n",
    "    first_row_zero = False\n",
    "    first_col_zero = False\n",
    "    n = len(matrix)\n",
    "    m = len(matrix[0])\n",
    "    for i in range(n):\n",
    "        if matrix[i][0] == 0:\n",
    "            first_col_zero = True\n",
    "            break\n",
    "\n",
    "    for i in range(m):\n",
    "        if matrix[0][i] == 0:\n",
    "            first_row_zero = True\n",
    "            break\n",
    "    \n",
    "    for i in range(1, n):\n",
    "        for j in range(1, m):\n",
    "            if matrix[i][j] == 0 or matrix[0][j] == 0:\n",
    "                matrix[i][j] = 0\n",
    "\n",
    "    if first_col_zero:\n",
    "        for i in range(n):\n",
    "            matrix[i][0] = 0\n",
    "\n",
    "    if first_row_zero:\n",
    "        for i in range(m):\n",
    "            matrix[0][i] = 0\n",
    "\n",
    "    return matrix\n",
    "\n",
    "\n",
    "set_matrix_to_zeros([[1, 2, 3],[2, 0, 0],[3, 4, 5]])"
   ]
  }
 ],
 "metadata": {
  "kernelspec": {
   "display_name": "Python 3",
   "language": "python",
   "name": "python3"
  },
  "language_info": {
   "codemirror_mode": {
    "name": "ipython",
    "version": 3
   },
   "file_extension": ".py",
   "mimetype": "text/x-python",
   "name": "python",
   "nbconvert_exporter": "python",
   "pygments_lexer": "ipython3",
   "version": "3.12.1"
  }
 },
 "nbformat": 4,
 "nbformat_minor": 5
}
