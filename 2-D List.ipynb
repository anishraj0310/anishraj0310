{
 "cells": [
  {
   "cell_type": "code",
   "execution_count": 1,
   "id": "0a95a933",
   "metadata": {},
   "outputs": [
    {
     "name": "stdout",
     "output_type": "stream",
     "text": [
      "7\n"
     ]
    }
   ],
   "source": [
    "matrix = [[1,2,3,4],[5,6,7,8],[9,10,11,12]]\n",
    "print(matrix[1][2])"
   ]
  },
  {
   "cell_type": "code",
   "execution_count": 3,
   "id": "2e17a4b2",
   "metadata": {},
   "outputs": [
    {
     "name": "stdout",
     "output_type": "stream",
     "text": [
      "[[1, 1, 1], [1, 1, 1], [1, 1, 1], [1, 1, 1]]\n"
     ]
    }
   ],
   "source": [
    "n = 4\n",
    "m = 3\n",
    "matrix = [[1 for _ in range(m)] for _ in range(n)]\n",
    "print(matrix)"
   ]
  },
  {
   "cell_type": "code",
   "execution_count": 5,
   "id": "b65dc1d7",
   "metadata": {},
   "outputs": [
    {
     "name": "stdout",
     "output_type": "stream",
     "text": [
      "[4, 16, 36]\n"
     ]
    }
   ],
   "source": [
    "# [Transform(el) for el in another array if condition]\n",
    "numbers = [1,2,3,4,5,6,7]\n",
    "#Square of even numbers present in the list\n",
    "square_of_even_numbers = [num * num for num in numbers if num % 2 == 0]\n",
    "print(square_of_even_numbers)"
   ]
  },
  {
   "cell_type": "code",
   "execution_count": 7,
   "id": "44d6cca3",
   "metadata": {},
   "outputs": [
    {
     "name": "stdout",
     "output_type": "stream",
     "text": [
      "[15, 20]\n"
     ]
    }
   ],
   "source": [
    "numbers = [5,10,12,16,22,28]\n",
    "# Add 10 to number which is divisible by 5 and create a new list\n",
    "number_after_add = [num + 10 for num in numbers if num % 5 == 0]\n",
    "print(number_after_add)"
   ]
  },
  {
   "cell_type": "code",
   "execution_count": 12,
   "id": "59c6c5c5",
   "metadata": {},
   "outputs": [
    {
     "name": "stdout",
     "output_type": "stream",
     "text": [
      "[[0, 1, 2, 3, 4, 5], [0, 1, 2, 3, 4, 5], [0, 1, 2, 3, 4, 5], [0, 1, 2, 3, 4, 5]]\n"
     ]
    }
   ],
   "source": [
    "n = 4\n",
    "m = 6\n",
    "\n",
    "matrix = [[i for i in range (m)] for j in range (n)]\n",
    "print(matrix)"
   ]
  },
  {
   "cell_type": "code",
   "execution_count": 13,
   "id": "80b188d7",
   "metadata": {},
   "outputs": [
    {
     "name": "stdout",
     "output_type": "stream",
     "text": [
      "[[0, 0], [0, 0, 0], [0, 0, 0, 0], [0], [0, 0]]\n"
     ]
    }
   ],
   "source": [
    "nums_cols = [2,3,4,1,2]\n",
    "\n",
    "matrix = [[0 for _ in range(nums_cols[i])] for i in range (len(nums_cols))]\n",
    "\n",
    "print(matrix)"
   ]
  },
  {
   "cell_type": "code",
   "execution_count": 1,
   "id": "85d9eee0",
   "metadata": {},
   "outputs": [
    {
     "name": "stdout",
     "output_type": "stream",
     "text": [
      "[0, 1, 4, 9, 16]\n"
     ]
    }
   ],
   "source": [
    "li = [ele**2 for ele in range(5)]\n",
    "print(li)"
   ]
  },
  {
   "cell_type": "code",
   "execution_count": 2,
   "id": "5b6c64cc",
   "metadata": {},
   "outputs": [
    {
     "name": "stdout",
     "output_type": "stream",
     "text": [
      "[[0, 0, 0, 0], [0, 1, 2, 3], [0, 2, 4, 6]]\n"
     ]
    }
   ],
   "source": [
    "li = [[ i*j for j in range(4)] for i in range(3)]\n",
    "print(li)"
   ]
  },
  {
   "cell_type": "markdown",
   "id": "9f2aba4e",
   "metadata": {},
   "source": [
    "### Row wise Transversal\n",
    "Given a matrix, ‘A’ of size ‘N’ * ‘M’, you must traverse the matrix row-wise.\n",
    "\n",
    "You must return an integer array of size ‘N’ * ‘M’ denoting the row-wise traversal of the matrix."
   ]
  },
  {
   "cell_type": "code",
   "execution_count": 3,
   "id": "f6f407fe",
   "metadata": {},
   "outputs": [],
   "source": [
    "from typing import *\n",
    "\n",
    "def printRowWise(a : List[List[int]]) -> List[int]:\n",
    "    # Write your code here.\n",
    "    n, m = len(a), len(a[0])\n",
    "    answer = []\n",
    "\n",
    "    for i in range(n):\n",
    "        for j in range (m):\n",
    "            answer.append(a[i][j])\n",
    "\n",
    "    return answer\n",
    "\n",
    "    pass\n"
   ]
  },
  {
   "cell_type": "code",
   "execution_count": null,
   "id": "b4e79acf",
   "metadata": {},
   "outputs": [],
   "source": []
  }
 ],
 "metadata": {
  "kernelspec": {
   "display_name": "Python 3 (ipykernel)",
   "language": "python",
   "name": "python3"
  },
  "language_info": {
   "codemirror_mode": {
    "name": "ipython",
    "version": 3
   },
   "file_extension": ".py",
   "mimetype": "text/x-python",
   "name": "python",
   "nbconvert_exporter": "python",
   "pygments_lexer": "ipython3",
   "version": "3.11.4"
  }
 },
 "nbformat": 4,
 "nbformat_minor": 5
}
